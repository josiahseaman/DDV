{
 "cells": [
  {
   "cell_type": "code",
   "execution_count": null,
   "metadata": {},
   "outputs": [],
   "source": [
    ""
   ]
  },
  {
   "cell_type": "code",
   "execution_count": 21,
   "metadata": {},
   "outputs": [
    {
     "name": "stdout",
     "output_type": "stream",
     "text": [
      "1 loop, best of 3: 256 ms per loop\n"
     ]
    }
   ],
   "source": [
    "\n",
    "%%timeit\n",
    "b = bytearray(b'A'*100)\n",
    "for i in range(100000):\n",
    "    b.insert(50, ord('-'))"
   ]
  },
  {
   "cell_type": "code",
   "execution_count": 38,
   "metadata": {},
   "outputs": [
    {
     "name": "stdout",
     "output_type": "stream",
     "text": [
      "100 loops, best of 3: 6.73 ms per loop\n"
     ]
    }
   ],
   "source": [
    "%%timeit\n",
    "from array import array\n",
    "a = array('u', 'X'*100)\n",
    "for i in range(10000):\n",
    "    a.insert(50, 'B')"
   ]
  },
  {
   "cell_type": "code",
   "execution_count": 43,
   "metadata": {},
   "outputs": [],
   "source": [
    ""
   ]
  },
  {
   "cell_type": "code",
   "execution_count": 41,
   "metadata": {},
   "outputs": [],
   "source": [
    ""
   ]
  },
  {
   "cell_type": "code",
   "execution_count": 1,
   "metadata": {
    "collapsed": false
   },
   "outputs": [
    {
     "data": {
      "text/plain": [
       "'D:\\\\josiah\\\\Projects\\\\DDV\\\\bin\\\\Release\\\\output\\\\dnadata\\\\Parallel_chrX_PanTro4_and_Hg38'"
      ]
     },
     "execution_count": 1,
     "metadata": {},
     "output_type": "execute_result"
    }
   ],
   "source": [
    "import os\n",
    "os.chdir('D:/josiah/Projects/DDV/bin/Release/output/dnadata/Parallel_chrX_PanTro4_and_Hg38')\n",
    "os.getcwd()"
   ]
  },
  {
   "cell_type": "code",
   "execution_count": 2,
   "metadata": {
    "collapsed": false
   },
   "outputs": [
    {
     "name": "stdout",
     "output_type": "stream",
     "text": [
      "166644785 166620523\n"
     ]
    },
    {
     "data": {
      "text/plain": [
       "10178"
      ]
     },
     "execution_count": 2,
     "metadata": {},
     "output_type": "execute_result"
    }
   ],
   "source": [
    "with open('chrX_hg38_gapped.fa', 'r') as fasta:\n",
    "    # print(fasta.readline())\n",
    "    human = ''.join(fasta.read().splitlines())\n",
    "with open('chrX_panTro4_gapped.fa', 'r') as fasta:\n",
    "    # print(fasta.readline())\n",
    "    chimp = ''.join(fasta.read().splitlines())\n",
    "\n",
    "print(len(human), len(chimp))\n",
    "\n",
    "human_sample = human[4165223:4168924]  # unaligned: 78138303:78148481\n",
    "chimp_sample = chimp[4165223:4168924]\n",
    "78148481 - 78138303"
   ]
  },
  {
   "cell_type": "code",
   "execution_count": 3,
   "metadata": {
    "collapsed": false
   },
   "outputs": [
    {
     "data": {
      "text/plain": [
       "41"
      ]
     },
     "execution_count": 3,
     "metadata": {},
     "output_type": "execute_result"
    }
   ],
   "source": [
    "def count_differences(A, B):\n",
    "    count = 0\n",
    "    for i in range(min(len(A), len(B))):\n",
    "        if A[i].upper() != B[i].upper():\n",
    "            count += 1\n",
    "    return count\n",
    "\n",
    "count_differences(human_sample, chimp_sample)"
   ]
  },
  {
   "cell_type": "markdown",
   "metadata": {
    "collapsed": false
   },
   "source": [
    "def score_offset_range(start=20):\n",
    "    for offset in range(-start, start * 2):\n",
    "        score = count_differences(human_sample[start + offset:], chimp_sample[start:])\n",
    "        if score < 7000:\n",
    "            print(offset, score)\n",
    "score_offset_range()"
   ]
  },
  {
   "cell_type": "markdown",
   "metadata": {
    "collapsed": false
   },
   "source": [
    "def chunks(seq, size):\n",
    "    \"\"\"Yield successive n-sized chunks from l.\"\"\"\n",
    "    for i in range(0, len(seq), size):\n",
    "        yield seq[i:i + size]\n",
    "\n",
    "print('\\n'.join(chunks(chimp_sample, 100)))"
   ]
  },
  {
   "cell_type": "code",
   "execution_count": 10,
   "metadata": {
    "collapsed": false
   },
   "outputs": [
    {
     "data": {
      "text/plain": [
       "'CGTTGGAGCTCACAGGAAGTTATCCTTGAGAAAGGAGCATCATCCTCATCCTCATTAAGAGAGCACTGACTGGACTGAAAAAAAAAGCTGACTCCCCGCCCAGCCAGCTTGGTCCCCAGAGGCAGCGACACTCTATTTTTAAAGATGAGGTTACCCGCTGGGCACCCTAAGCTGACTTGACGTCAAACTGAGTGGCCCCCTGTGACACCAGAACCCCTCACCTCTGCCGCCCTCCTGCCCGCATCCTGCTCTCTGCCCCGGCCTCCAGCCCCAGCTCCACCTTTCCCAAGGGACCCATGTGGGTGCCCCAAAGAATGACAAACGCTGGTGCTGAGTGCCAAGGAACGGCTGGACCTCATCAATTTTCCATTGTCGAGTTGTATTTCCACCTACTGTGGCGGCTGCGCCAGTCAGGGTTCCTGCCCCACCCTTCTTCCGCGCAAAACACACCCAGCTCTAAGATTAGACCAGGACAGCTTTCCGGGGGGACCAAGACAAGGGGGAAGGCAGAGAGAGAGGAGGGAGGGAGACAGAAAAACCAAGACCGGAAGGGGACAGGGAGAGAGACACCAAGAGACAGAGGAGGAGAAATGCAGAGAGACTTGAACAGAGACAGAAAGAGGGAGAGAGAAGAGAAACAGAGAAAAGAGAGAGAGAATGAGATAAAGAGGAGGAGGGAGGGAGAGGAGAAAGAGAGAGGGCCTCCTCCCACTCTGTCCTTCCAAATTCAGGCTTTCCTCGTGGGCCCTTCCTCAAGGTCTAAGTGGCAAAGAGGTCACTGAAGGAAGCTAAGTCCCCTCTTCCTCAGCGGTTCTAAAGGCCCCACTGGCTATGCCCGCTGGTCTTCCTAAGTCATAAGCTATGGCCTCGAGCCCTTGGGCTTCCCAGCCCAGCTTCCTCCTTTCCAAAATGAGGACAAACAGGAGTTAGAGGGCCTGAGAGCCGACGCCTCACCAACACACCCAGGACAGCCCCCTCTACTCTCCCATTTATTTTCTTGACAGCCAACACCCCACTTAGCCATACGGAGTCCCTAAGTGGCACAGGCGGGCCGATGACAACTGTTTAAATCCAGCGCCCACGTTCAGTTGGGATATTCTGACCCACTCAGGGCTGCTCCATAAAGCAGCGCGTGTCCGGATGCAAGAGCACCGAGAACTCGAAACCTCTCTGTCAAGCTGCCCATTCGGGGTTAAGTTCAAAGACAGAGGACAAAGGAAACGGATAAAGCGTCCGATACAAGAATTACCCATTTCAGAGGCACAAGACGAAGAGCACAGGCGGTGTCAGGACATGTTAGGATCCGTCCCCAGCGCTGCCGTCCTCGTCCCCACAGCGCCCCGGGACACCTGTCCCCCACAGCCCAGCTGCTCCTGCAGCCCCTGGAGAAATCTGTACATTCCCTGCCTCTGGGCACACAGGGAGGCTGGCCTAGGGGAGGCCTGCAGGGGTCTTCGCACCCCGCGCCAGTGTCCCTGGGGCCGCTGCCAGGGAGGGAGCACGAGGTCCCCCAGGCGAGGTGACCCGCAGGAGGTTTTGTGACGTCGGACGGCCCAGGCCCCAGAGTGCTGTGTGTGCTGGGGGTGGAGGGTGGTCTCCGAGAGGAGCCGTCGGCATTTCAGGTTAGGCACCCGGCCGGTCGGGGGTACTTGCCTGGGCTGGGGGGCTGGGGAGTGCGCTCCACCCGGGAAGACCCGGGGCGCAGGTGCAGCCCCGCACGGGGACTCCGAGCCGAAGTAGCGGGTCAGGGCCCTCCCCAGGAGGTCGGCACCCAGGGCCCTTTGTCCTACTACAACGTCCCGGCCACGCCGCGCGCCCCTGTGGGCCGAGTCCCCGCCCGCACTCACTCACCCACGGTGGCCAGCGTGTCAAAGTCCTGCAGGCTGTACACAGGCGGCTCCGGCGACAGCGCCTCAGGGCTGGGGCAGAGCGCGGGCGCCCCGTCGGGGGTCTCCTCCGCCACCTTGCGGGAGTCGCTCTCCGCCGCGGCCGCCTGGGCCAGCCCGGGCGCCTCCATGGGGACGCACTCAGGTCCGGGGCACCGGGCCAGGCCGGAGCGCTCGGGGAGCCGGGCTTCCCGGGACGCAGCCTCGGAGGGCGGCGCGGCGGCGGCATCAACAGAGGCTCCCCATGCGCGCTCTCGCCTCCTGGTGCGCGGTCCGGCGCGGCTGACGGAGCGACGGGGACAATGGCTGGGCGGCGCTCACGGCACAAGCAGCAACGGCCCCGAGTGGGAGCAGCCGCCGGCCTCGGGGGGCGGGCACCGAGTGCGGGACGACTGCGGGGAAGGCGGGGGCCGCGGCCCGGGCTGGGGGGGGCGAGGCGGGGGCCCTGCGCATTCCGGGTCTCGCGCCCGCCGCCTCCTCCAGCTCGGTAGCCGCGTGCGCGCTGTTGGGGCGGGCGGAAGCCGCCTGGGCGTGACCGCGCCTCTCCCCGCCCTAACCCGGCCGCGGGGCTGGGGGCGTCGCCTTCGCGCGCGCTCCGCCCCCGCCCCGACCCAGCCCAGGAGCCGGAGACCCGGGCGTGCGGCGCTGGGGAGGTGCCCACGCCCCCTCCGCGCCCGGGGCACCCCTGGGGTGGGACCCAGGCTGACTTCTCCTCGGGGACGCACTGGCGGGCCACCCGCGTCGCTGCACCCAAGCCCGGAAGATGGGGAGGCGAGGGGGCCCGGGGACAGGGAGGGCGTAGCTCAGCAGAAGTGAAGTTCAAAACTAAAAAGTGAAACTGGCGTTTGGTGAAGAGAGGGGCTCGGATTAGCCCGGCTAATTTTTGTATTTTCTCAGTAGAGACAGGGTTTCACCATGTTGGCCAGGCTGGTCTGGAACTCCTGAGCACAAGTGAACCGCCTGCCTCGTTCTCCCAAAGTGCTGGGACTACAGGTATAAGCCACCACGCCCAGCCTCTGATTGGCTTTAAGTCATAGAAAATAGGATTGCTCAGCTGGCAATCTGCATACAGATCCCCTCTGCCCTCCCCCCAAAAAGTTCAGTACTCCTGCGGGTGCTTGTTTGGGACCTGAGAGAATTTGGAATGAGGGCGGATCCCCAAGAGGGGCTGCCGGGTCTTCGGGATGAGTTCAGCGTCCTGGTTTTGCTGTAGGACTCTGGTGATTCTAGATTTCTACTTGGAAGGGGCGGGGAAGGGCGGGCTCGACCCTGTGCGTTTCTTTGCAGCTTCCTGTGGATCTAGAATTCTTTACAAATAAACATTCCTTTAAAAAACTAGGGAAAGACAGATTTGAGAGATCGCCCGACCAAATGTAGTGCGTGAAACTTGATTGGTCACTGTTTCAAACACCCCGGCGACAACCCTATAAAGAATTGTGCAGAGGCATTTCAATTTCAGAAACCCCAAAGATTTTTTTTTCCTGGCTTAAGTGTGGCTCAGGCAATAGTTGGACATACTTATATTTAAAACCCATATCCGTGTGGATTTGAAATGCAAATATAGCTAGATATTTGGTCACCCCTTTCCCCAGGGAAATGCAGACAGTGCTTAACTTGCGGGCCTGGCACGGCCTGGACGCTGCGCCCCTGACCCGCGACCAGGGCGGCCCAGGCTGCCGGTTCGCCGACCACAGTTTGAGCAGCAAGGGGTCAAACTGCAAACGCCTTTGTTTTGAGGGATCTCAGCGATTCTGCGATTGGAGGGGGTCTCCAGTCCCTCAGTCCGCAGGTCAGGGGGGCTTTCCGAGAGCCAAA'"
      ]
     },
     "execution_count": 10,
     "metadata": {},
     "output_type": "execute_result"
    }
   ],
   "source": [
    "human_sample"
   ]
  },
  {
   "cell_type": "code",
   "execution_count": null,
   "metadata": {
    "collapsed": true
   },
   "outputs": [],
   "source": [
    ""
   ]
  }
 ],
 "metadata": {
  "kernelspec": {
   "display_name": "Python 3",
   "language": "python",
   "name": "python3"
  },
  "language_info": {
   "codemirror_mode": {
    "name": "ipython",
    "version": 3.0
   },
   "file_extension": ".py",
   "mimetype": "text/x-python",
   "name": "python",
   "nbconvert_exporter": "python",
   "pygments_lexer": "ipython3",
   "version": "3.4.3"
  },
  "widgets": {
   "state": {},
   "version": "1.1.2"
  }
 },
 "nbformat": 4,
 "nbformat_minor": 0
}