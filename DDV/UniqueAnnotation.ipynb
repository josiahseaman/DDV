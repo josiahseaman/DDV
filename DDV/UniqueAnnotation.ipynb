{
 "cells": [
  {
   "cell_type": "markdown",
   "metadata": {},
   "source": [
    "# Differences in Processing two files\n",
    "* Same input length\n",
    "* Output from \"Unique\" layout has a much longer centromere in annotation than sequence\n",
    "* **Annotation Track does not have equivalent Ns to get `.replace('N', '')`**"
   ]
  },
  {
   "cell_type": "markdown",
   "metadata": {},
   "source": [
    "## Solution:\n",
    "**Leave N's in sequence file, iterate through both sequence and annotation simultaneously, where there is an N, remove from both files.**  \n",
    "**Result:** Annotation and sequence files stay in sync, even as Unique layout removes majority of sequence."
   ]
  },
  {
   "cell_type": "code",
   "execution_count": 1,
   "metadata": {},
   "outputs": [],
   "source": [
    "from DNASkittleUtils.Contigs import *"
   ]
  },
  {
   "cell_type": "code",
   "execution_count": 2,
   "metadata": {},
   "outputs": [],
   "source": [
    "chr_names = 'chr1 chr2 chr3 chr4 chr5 chr6 chr7 chr8 chr9 chr10 chr11 chr12 chr13 chr14 chr15 chr16 chr17 chr18 chr19 chr20 chr21 chr22 chrX chrY'.split()"
   ]
  },
  {
   "cell_type": "code",
   "execution_count": 22,
   "metadata": {},
   "outputs": [
    {
     "data": {
      "text/plain": [
       "24"
      ]
     },
     "execution_count": 22,
     "metadata": {},
     "output_type": "execute_result"
    }
   ],
   "source": [
    "anno_loc = r\"E:\\Projects\\FluentDNA-2.4.1\\www-data\\dnadata\\Human Unique Gene Annotations Gencode v30 vs PanTro6_\\Human Unique Gene Annotations Gencode v30 vs PanTro6___285391001bp.fa\"\n",
    "annotations = read_contigs(anno_loc)\n",
    "len(annotations)"
   ]
  },
  {
   "cell_type": "code",
   "execution_count": 26,
   "metadata": {},
   "outputs": [
    {
     "data": {
      "text/plain": [
       "24"
      ]
     },
     "execution_count": 26,
     "metadata": {},
     "output_type": "execute_result"
    }
   ],
   "source": [
    "seq_loc = r\"E:\\Projects\\FluentDNA\\DDV\\www-data\\dnadata\\Unique Human Hg38 vs Chimpanzee PanTro6_\\sources\\Unique Human Hg38 vs Chimpanzee PanTro6___285391001bp.fa\"\n",
    "sequences = read_contigs(seq_loc)\n",
    "len(sequences)"
   ]
  },
  {
   "cell_type": "code",
   "execution_count": 28,
   "metadata": {},
   "outputs": [
    {
     "data": {
      "text/plain": [
       "[('chr1_Hg38_unique', 'chr1_gencode_unique'),\n",
       " ('chr2_Hg38_unique', 'chr2_gencode_unique'),\n",
       " ('chr3_Hg38_unique', 'chr3_gencode_unique'),\n",
       " ('chr4_Hg38_unique', 'chr4_gencode_unique'),\n",
       " ('chr5_Hg38_unique', 'chr5_gencode_unique'),\n",
       " ('chr6_Hg38_unique', 'chr6_gencode_unique'),\n",
       " ('chr7_Hg38_unique', 'chr7_gencode_unique'),\n",
       " ('chr8_Hg38_unique', 'chr8_gencode_unique'),\n",
       " ('chr9_Hg38_unique', 'chr9_gencode_unique'),\n",
       " ('chr10_Hg38_unique', 'chr10_gencode_unique'),\n",
       " ('chr11_Hg38_unique', 'chr11_gencode_unique'),\n",
       " ('chr12_Hg38_unique', 'chr12_gencode_unique'),\n",
       " ('chr13_Hg38_unique', 'chr13_gencode_unique'),\n",
       " ('chr14_Hg38_unique', 'chr14_gencode_unique'),\n",
       " ('chr15_Hg38_unique', 'chr15_gencode_unique'),\n",
       " ('chr16_Hg38_unique', 'chr16_gencode_unique'),\n",
       " ('chr17_Hg38_unique', 'chr17_gencode_unique'),\n",
       " ('chr18_Hg38_unique', 'chr18_gencode_unique'),\n",
       " ('chr19_Hg38_unique', 'chr19_gencode_unique'),\n",
       " ('chr20_Hg38_unique', 'chr20_gencode_unique'),\n",
       " ('chr21_Hg38_unique', 'chr21_gencode_unique'),\n",
       " ('chr22_Hg38_unique', 'chr22_gencode_unique'),\n",
       " ('chrX_Hg38_unique', 'chrX_gencode_unique'),\n",
       " ('chrY_Hg38_unique', 'chrY_gencode_unique')]"
      ]
     },
     "execution_count": 28,
     "metadata": {},
     "output_type": "execute_result"
    }
   ],
   "source": [
    "list(zip([c.name for c in sequences], [c.name for c in annotations]))"
   ]
  },
  {
   "cell_type": "code",
   "execution_count": 29,
   "metadata": {},
   "outputs": [
    {
     "name": "stdout",
     "output_type": "stream",
     "text": [
      "Done writing  24 contigs and 134,760,773bp\n",
      "Done writing  24 contigs and 134,760,773bp\n"
     ]
    }
   ],
   "source": [
    "anno_contigs = []\n",
    "seq_contigs = []\n",
    "for s_chr, a_chr in zip(sequences, annotations):\n",
    "    purged_a = []\n",
    "    purged_s = []\n",
    "    assert len(a_chr.seq) == len(s_chr.seq), (len(a_chr.seq), len(s_chr.seq))\n",
    "    for a, s in zip(a_chr.seq, s_chr.seq):\n",
    "        if s != 'N':\n",
    "            purged_a.append(a)\n",
    "            purged_s.append(s)\n",
    "    name = s_chr.name.split('_')[0]\n",
    "    anno_contigs.append(Contig(name, ''.join(purged_a)))\n",
    "    seq_contigs.append(Contig(name, ''.join(purged_s)))\n",
    "write_contigs_to_file(r\"E:\\Genomes\\Human\\Human Unique Genes Gencode30.fa\", anno_contigs)\n",
    "write_contigs_to_file(r\"E:\\Genomes\\Human\\Human Unique Sequence.fa\", seq_contigs)"
   ]
  },
  {
   "cell_type": "markdown",
   "metadata": {},
   "source": [
    "# Merge Gene Annotation and Centromere Annotation into One Track"
   ]
  },
  {
   "cell_type": "code",
   "execution_count": 6,
   "metadata": {},
   "outputs": [],
   "source": [
    "anno_contigs = read_contigs(r\"E:\\Genomes\\Human\\Human Unique Genes Gencode30.fa\")\n",
    "centromere_seq = read_contigs(r\"E:\\Genomes\\Human\\Unique Human Centromere Locations.gff3_extracted.fa\")\n",
    "# list(zip([c.name for c in anno_contigs], [c.name for c in centromere_seq]))"
   ]
  },
  {
   "cell_type": "code",
   "execution_count": 9,
   "metadata": {},
   "outputs": [
    {
     "name": "stdout",
     "output_type": "stream",
     "text": [
      "Done writing  24 contigs and 134,760,677bp\n"
     ]
    }
   ],
   "source": [
    "fasta = []\n",
    "for c_chr, a_chr in zip(centromere_seq, anno_contigs):\n",
    "    current_contig = []\n",
    "    for c, a in zip(c_chr.seq, a_chr.seq):\n",
    "        if a == '-':\n",
    "            current_contig.append('R' if c != '-' else c)  # centromere marked with 'R'\n",
    "        else:\n",
    "            current_contig.append(a)\n",
    "    fasta.append(Contig(a_chr.name, ''.join(current_contig)))\n",
    "write_contigs_to_file(r\"E:\\Genomes\\Human\\Human Unique Annotation merged.fa\", fasta)"
   ]
  },
  {
   "cell_type": "code",
   "execution_count": null,
   "metadata": {},
   "outputs": [],
   "source": []
  },
  {
   "cell_type": "markdown",
   "metadata": {},
   "source": [
    "./FluentDNA --outname=\"Test chr21 unique annotation\" --fasta=\"E:\\Genomes\\Human\\gencode.v30.annotation.gff3__chr21.fa\" --chainfile=\"E:\\Genomes\\Human\\hg38ToPanTro6.over.chain\" --layout=unique --contigs chr21"
   ]
  },
  {
   "cell_type": "markdown",
   "metadata": {},
   "source": [
    "./FluentDNA --outname=\"Test chr21 unique seq\" --fasta=\"E:\\Genomes\\Human\\chroms\\chr21.fa\" --chainfile=\"E:\\Genomes\\Human\\hg38ToPanTro6.over.chain\" --layout=unique --contigs chr21"
   ]
  },
  {
   "cell_type": "markdown",
   "metadata": {},
   "source": [
    "./FluentDNA --fasta=\"E:\\Genomes\\Human\\Human Unique Annotation merged.fa_squished.fa\"\n",
    "--extrafastas\n",
    "\"E:\\Genomes\\Human\\Human Unique Sequence.fa\"\n",
    "--outname=\"Unique Human Genes and Centromere vs Chimpanzee PanTro6\"\n",
    "--column_widths=\"[20,100]\""
   ]
  },
  {
   "cell_type": "code",
   "execution_count": null,
   "metadata": {},
   "outputs": [],
   "source": []
  }
 ],
 "metadata": {
  "kernelspec": {
   "display_name": "Python 3",
   "language": "python",
   "name": "python3"
  },
  "language_info": {
   "codemirror_mode": {
    "name": "ipython",
    "version": 3
   },
   "file_extension": ".py",
   "mimetype": "text/x-python",
   "name": "python",
   "nbconvert_exporter": "python",
   "pygments_lexer": "ipython3",
   "version": "3.7.3"
  }
 },
 "nbformat": 4,
 "nbformat_minor": 2
}
