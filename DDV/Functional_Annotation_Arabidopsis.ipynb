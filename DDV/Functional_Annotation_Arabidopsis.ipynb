{
 "cells": [
  {
   "cell_type": "code",
   "execution_count": 1,
   "metadata": {
    "collapsed": false
   },
   "outputs": [],
   "source": [
    "from pandas import DataFrame, read_csv\n",
    "from os.path import join, basename\n",
    "from os.path import splitext, join\n",
    "from DNASkittleUtils.Annotations import parseGFF\n",
    "from DNASkittleUtils.Contigs import read_contigs\n",
    "from DNASkittleUtils.CommandLineUtils import just_the_name\n",
    "from DNASkittleUtils.DDVUtils import pp\n",
    "filename = r\"D:\\josiah\\Documents\\Research\\Arabidopsis\\TAIR10_GFF3_genes_only.gff3\""
   ]
  },
  {
   "cell_type": "code",
   "execution_count": 2,
   "metadata": {
    "collapsed": false,
    "scrolled": false
   },
   "outputs": [],
   "source": [
    "df = read_csv(r\"D:\\josiah\\Documents\\Research\\Arabidopsis\\functional_annotation.csv\",sep='\\t', error_bad_lines=False)# fields='Gene_Family\tGene_Name\tGenomic_Locus(BAC)\tGenomic_Locus_Tag\tProtein_Function'.split())"
   ]
  },
  {
   "cell_type": "code",
   "execution_count": 3,
   "metadata": {
    "collapsed": false
   },
   "outputs": [
    {
     "data": {
      "text/html": [
       "<div>\n",
       "<style scoped>\n",
       "    .dataframe tbody tr th:only-of-type {\n",
       "        vertical-align: middle;\n",
       "    }\n",
       "\n",
       "    .dataframe tbody tr th {\n",
       "        vertical-align: top;\n",
       "    }\n",
       "\n",
       "    .dataframe thead th {\n",
       "        text-align: right;\n",
       "    }\n",
       "</style>\n",
       "<table border=\"1\" class=\"dataframe\">\n",
       "  <thead>\n",
       "    <tr style=\"text-align: right;\">\n",
       "      <th></th>\n",
       "      <th>Gene_Family</th>\n",
       "      <th>Gene_Name</th>\n",
       "      <th>Genomic_Locus(BAC)</th>\n",
       "      <th>Genomic_Locus_Tag</th>\n",
       "      <th>Protein_Function</th>\n",
       "    </tr>\n",
       "  </thead>\n",
       "  <tbody>\n",
       "    <tr>\n",
       "      <th>0</th>\n",
       "      <td>IQD Protein Family</td>\n",
       "      <td>IQD1</td>\n",
       "      <td>NaN</td>\n",
       "      <td>At3g09710</td>\n",
       "      <td>NaN</td>\n",
       "    </tr>\n",
       "    <tr>\n",
       "      <th>1</th>\n",
       "      <td>IQD Protein Family</td>\n",
       "      <td>IQD2</td>\n",
       "      <td>NaN</td>\n",
       "      <td>At5g03040</td>\n",
       "      <td>NaN</td>\n",
       "    </tr>\n",
       "    <tr>\n",
       "      <th>2</th>\n",
       "      <td>IQD Protein Family</td>\n",
       "      <td>IQD3</td>\n",
       "      <td>NaN</td>\n",
       "      <td>At3g52290</td>\n",
       "      <td>NaN</td>\n",
       "    </tr>\n",
       "    <tr>\n",
       "      <th>3</th>\n",
       "      <td>IQD Protein Family</td>\n",
       "      <td>IQD4</td>\n",
       "      <td>NaN</td>\n",
       "      <td>At2g26410</td>\n",
       "      <td>NaN</td>\n",
       "    </tr>\n",
       "    <tr>\n",
       "      <th>4</th>\n",
       "      <td>IQD Protein Family</td>\n",
       "      <td>IQD5</td>\n",
       "      <td>NaN</td>\n",
       "      <td>At3g22190</td>\n",
       "      <td>NaN</td>\n",
       "    </tr>\n",
       "  </tbody>\n",
       "</table>\n",
       "</div>"
      ],
      "text/plain": [
       "          Gene_Family Gene_Name Genomic_Locus(BAC) Genomic_Locus_Tag  \\\n",
       "0  IQD Protein Family      IQD1                NaN         At3g09710   \n",
       "1  IQD Protein Family      IQD2                NaN         At5g03040   \n",
       "2  IQD Protein Family      IQD3                NaN         At3g52290   \n",
       "3  IQD Protein Family      IQD4                NaN         At2g26410   \n",
       "4  IQD Protein Family      IQD5                NaN         At3g22190   \n",
       "\n",
       "  Protein_Function  \n",
       "0              NaN  \n",
       "1              NaN  \n",
       "2              NaN  \n",
       "3              NaN  \n",
       "4              NaN  "
      ]
     },
     "execution_count": 3,
     "metadata": {},
     "output_type": "execute_result"
    }
   ],
   "source": [
    "df.head()"
   ]
  },
  {
   "cell_type": "code",
   "execution_count": 4,
   "metadata": {
    "collapsed": false
   },
   "outputs": [
    {
     "data": {
      "text/plain": [
       "8693"
      ]
     },
     "execution_count": 4,
     "metadata": {},
     "output_type": "execute_result"
    }
   ],
   "source": [
    "len(df)"
   ]
  },
  {
   "cell_type": "code",
   "execution_count": 5,
   "metadata": {
    "collapsed": false
   },
   "outputs": [
    {
     "data": {
      "text/plain": [
       "8693"
      ]
     },
     "execution_count": 5,
     "metadata": {},
     "output_type": "execute_result"
    }
   ],
   "source": [
    "sum(df['Gene_Family'].notnull())"
   ]
  },
  {
   "cell_type": "code",
   "execution_count": 6,
   "metadata": {
    "collapsed": false
   },
   "outputs": [
    {
     "data": {
      "text/plain": [
       "3723"
      ]
     },
     "execution_count": 6,
     "metadata": {},
     "output_type": "execute_result"
    }
   ],
   "source": [
    "sum(df['Protein_Function'].str.contains('putative')==False)"
   ]
  },
  {
   "cell_type": "code",
   "execution_count": 7,
   "metadata": {
    "collapsed": false
   },
   "outputs": [
    {
     "data": {
      "text/plain": [
       "5804"
      ]
     },
     "execution_count": 7,
     "metadata": {},
     "output_type": "execute_result"
    }
   ],
   "source": [
    "sum(df['Protein_Function'].notnull() & (df['Protein_Function'].str.contains('hypothetical protein')==False))"
   ]
  },
  {
   "cell_type": "markdown",
   "metadata": {},
   "source": [
    "# Filter out to only genes with mentions in functional_annotation.csv"
   ]
  },
  {
   "cell_type": "code",
   "execution_count": null,
   "metadata": {
    "collapsed": false
   },
   "outputs": [],
   "source": [
    "tag = df['Genomic_Locus_Tag'].notna()\n",
    "tags = df[tag]['Genomic_Locus_Tag']\n",
    "sum(tag), len(tag)"
   ]
  },
  {
   "cell_type": "code",
   "execution_count": null,
   "metadata": {
    "collapsed": false,
    "scrolled": true
   },
   "outputs": [],
   "source": [
    "upper_case_loci = set([str(n).upper() for n in tags])\n",
    "len(upper_case_loci)"
   ]
  },
  {
   "cell_type": "code",
   "execution_count": null,
   "metadata": {
    "collapsed": false
   },
   "outputs": [],
   "source": [
    "\n",
    "filtered_path = splitext(filename)[0] + '_with_functions' + splitext(filename)[1]\n",
    "with open(filename) as file:\n",
    "    with open(filtered_path, 'w') as outfile:\n",
    "        for line in file.readlines():\n",
    "            attributes = line.split('\\t')[8].split(';')\n",
    "            locus = attributes[0][3:]\n",
    "            if locus.upper() in upper_case_loci or name.upper() in upper_case_loci:\n",
    "                outfile.write(line)"
   ]
  },
  {
   "cell_type": "markdown",
   "metadata": {},
   "source": [
    "6652 lines"
   ]
  },
  {
   "cell_type": "markdown",
   "metadata": {},
   "source": [
    "#### Create Gene function Lookup"
   ]
  },
  {
   "cell_type": "code",
   "execution_count": null,
   "metadata": {
    "collapsed": false
   },
   "outputs": [],
   "source": [
    "gene_function = {}\n",
    "for index, row in df[tag].iterrows():\n",
    "    try: \n",
    "        gene = row['Genomic_Locus_Tag'].upper()\n",
    "    except AttributeError:\n",
    "        print(row['Genomic_Locus_Tag'])\n",
    "    function = row['Protein_Function'] if str(row['Protein_Function']) != 'nan' else row['Gene_Family']\n",
    "    forbidden = ['\\uffa0', 'basic', 'hypothetical protein', 'unknown protein', 'putative', 'hypothetical  protein']\n",
    "    for bad in forbidden:\n",
    "        function = function.replace(bad, '')\n",
    "    if not function.strip() or str(function) == 'nan':\n",
    "        function = row['Gene_Family'].replace('basic', '')\n",
    "    gene_function[gene] = function\n",
    "#     break\n",
    "gene_function"
   ]
  },
  {
   "cell_type": "markdown",
   "metadata": {},
   "source": [
    "** ----------------- TODO: Come back and make the name pretty ---------------------**"
   ]
  },
  {
   "cell_type": "markdown",
   "metadata": {},
   "source": [
    "### Decorate Annotation with functions"
   ]
  },
  {
   "cell_type": "code",
   "execution_count": null,
   "metadata": {
    "collapsed": false
   },
   "outputs": [],
   "source": [
    "with open(filtered_path, 'r') as genes:\n",
    "    with open(r\"D:\\josiah\\Documents\\Research\\Arabidopsis\\TAIR10_annotated_genes.gff\", 'w') as final_annotation:\n",
    "        for line in genes.readlines():\n",
    "            parts = line.split('\\t')\n",
    "            locus = parts[8].split(';')[0][3:]\n",
    "            function = gene_function[locus]\n",
    "            if locus in gene_function:\n",
    "                final_annotation.write('\\t'.join(parts[:8] + ['Name=' + function]) +'\\n')"
   ]
  },
  {
   "cell_type": "code",
   "execution_count": null,
   "metadata": {
    "collapsed": false
   },
   "outputs": [],
   "source": [
    "df[df['Genomic_Locus_Tag'] =='At1g01570']"
   ]
  },
  {
   "cell_type": "code",
   "execution_count": null,
   "metadata": {
    "collapsed": false
   },
   "outputs": [],
   "source": [
    "'AT1G01020' in upper_case_loci"
   ]
  },
  {
   "cell_type": "markdown",
   "metadata": {},
   "source": [
    "# Repeat the Process for ATH_GO_SLIM"
   ]
  },
  {
   "cell_type": "code",
   "execution_count": 15,
   "metadata": {
    "collapsed": false
   },
   "outputs": [
    {
     "data": {
      "text/html": [
       "<div>\n",
       "<style scoped>\n",
       "    .dataframe tbody tr th:only-of-type {\n",
       "        vertical-align: middle;\n",
       "    }\n",
       "\n",
       "    .dataframe tbody tr th {\n",
       "        vertical-align: top;\n",
       "    }\n",
       "\n",
       "    .dataframe thead th {\n",
       "        text-align: right;\n",
       "    }\n",
       "</style>\n",
       "<table border=\"1\" class=\"dataframe\">\n",
       "  <thead>\n",
       "    <tr style=\"text-align: right;\">\n",
       "      <th></th>\n",
       "      <th>locus name</th>\n",
       "      <th>GO term</th>\n",
       "      <th>GOslim term</th>\n",
       "      <th>Date annotated</th>\n",
       "    </tr>\n",
       "  </thead>\n",
       "  <tbody>\n",
       "    <tr>\n",
       "      <th>0</th>\n",
       "      <td>AT1G01010</td>\n",
       "      <td>regulation of transcription, DNA-templated</td>\n",
       "      <td>other cellular processes</td>\n",
       "      <td>2018-04-02</td>\n",
       "    </tr>\n",
       "    <tr>\n",
       "      <th>1</th>\n",
       "      <td>AT1G01010</td>\n",
       "      <td>regulation of transcription, DNA-templated</td>\n",
       "      <td>transcription,DNA-dependent</td>\n",
       "      <td>2018-04-02</td>\n",
       "    </tr>\n",
       "    <tr>\n",
       "      <th>2</th>\n",
       "      <td>AT1G01010</td>\n",
       "      <td>DNA-binding transcription factor activity</td>\n",
       "      <td>transcription factor activity</td>\n",
       "      <td>2003-06-06</td>\n",
       "    </tr>\n",
       "    <tr>\n",
       "      <th>3</th>\n",
       "      <td>AT1G01010</td>\n",
       "      <td>regulation of transcription, DNA-templated</td>\n",
       "      <td>other cellular processes</td>\n",
       "      <td>2018-09-12</td>\n",
       "    </tr>\n",
       "    <tr>\n",
       "      <th>4</th>\n",
       "      <td>AT1G01010</td>\n",
       "      <td>integral component of membrane</td>\n",
       "      <td>other membranes</td>\n",
       "      <td>2018-09-04</td>\n",
       "    </tr>\n",
       "  </tbody>\n",
       "</table>\n",
       "</div>"
      ],
      "text/plain": [
       "  locus name                                     GO term  \\\n",
       "0  AT1G01010  regulation of transcription, DNA-templated   \n",
       "1  AT1G01010  regulation of transcription, DNA-templated   \n",
       "2  AT1G01010   DNA-binding transcription factor activity   \n",
       "3  AT1G01010  regulation of transcription, DNA-templated   \n",
       "4  AT1G01010              integral component of membrane   \n",
       "\n",
       "                     GOslim term Date annotated  \n",
       "0       other cellular processes     2018-04-02  \n",
       "1    transcription,DNA-dependent     2018-04-02  \n",
       "2  transcription factor activity     2003-06-06  \n",
       "3       other cellular processes     2018-09-12  \n",
       "4                other membranes     2018-09-04  "
      ]
     },
     "execution_count": 15,
     "metadata": {},
     "output_type": "execute_result"
    }
   ],
   "source": [
    "go = read_csv(r\"D:\\josiah\\Documents\\Research\\Arabidopsis\\ATH_GO_GOSLIM.txt\",sep='\\t', error_bad_lines=False,\n",
    "             usecols=['locus name', 'GO term','GOslim term', 'Date annotated'])\n",
    "go.head()"
   ]
  },
  {
   "cell_type": "code",
   "execution_count": 16,
   "metadata": {
    "collapsed": false
   },
   "outputs": [
    {
     "data": {
      "text/plain": [
       "(349103, 349103)"
      ]
     },
     "execution_count": 16,
     "metadata": {},
     "output_type": "execute_result"
    }
   ],
   "source": [
    "sum(go['GO term'].notnull() & go['locus name'].notnull()) ,len(go)"
   ]
  },
  {
   "cell_type": "markdown",
   "metadata": {},
   "source": [
    "Terrific!  No missing data"
   ]
  },
  {
   "cell_type": "code",
   "execution_count": 17,
   "metadata": {
    "collapsed": false
   },
   "outputs": [
    {
     "data": {
      "text/plain": [
       "30828"
      ]
     },
     "execution_count": 17,
     "metadata": {},
     "output_type": "execute_result"
    }
   ],
   "source": [
    "go_upper = {cell.upper() for cell in go['locus name']}\n",
    "len(go_upper)"
   ]
  },
  {
   "cell_type": "markdown",
   "metadata": {},
   "source": [
    "30,828 is slightly more genes than TAIR10 annotation...  because there are non-coding regions..."
   ]
  },
  {
   "cell_type": "code",
   "execution_count": 18,
   "metadata": {
    "collapsed": false
   },
   "outputs": [
    {
     "data": {
      "text/plain": [
       "25302"
      ]
     },
     "execution_count": 18,
     "metadata": {},
     "output_type": "execute_result"
    }
   ],
   "source": [
    "go_function = {}\n",
    "for index, row in go.iterrows():\n",
    "    gene = row['locus name']\n",
    "    function = row['GO term']\n",
    "    forbidden = ['biological_process', 'cellular_component', 'molecular_function',  'extracellular region', 'nucleus',]\n",
    "    #            'mitochondrion',  'cytoplasm', 'cytosol', 'chloroplast', 'membrane', 'plasma membrane']\n",
    "\n",
    "    if function not in forbidden:\n",
    "        if gene not in go_function or len(go_function[gene]) < len(function):  # use the longest\n",
    "            go_function[gene] = function\n",
    "len(go_function)"
   ]
  },
  {
   "cell_type": "code",
   "execution_count": 19,
   "metadata": {
    "collapsed": false
   },
   "outputs": [
    {
     "data": {
      "text/plain": [
       "['protein import into mitochondrial matrix',\n",
       " 'chloroplast intermembrane space',\n",
       " 'chloroplast',\n",
       " 'integral component of membrane',\n",
       " 'defense response',\n",
       " 'oxidoreductase activity, acting on paired donors, with incorporation or reduction of molecular oxygen, NAD(P)H as one donor, and incorporation of one atom of oxygen',\n",
       " 'carbohydrate metabolic process',\n",
       " 'triplet codon-amino acid adaptor activity',\n",
       " 'triplet codon-amino acid adaptor activity',\n",
       " 'peptidyl-diphthamide biosynthetic process from peptidyl-histidine',\n",
       " 'mitochondrion',\n",
       " 'tRNA splicing, via endonucleolytic cleavage and ligation',\n",
       " 'plasma membrane',\n",
       " 'transmembrane receptor protein tyrosine kinase signaling pathway',\n",
       " 'copper ion binding',\n",
       " 'oxidoreductase activity, acting on a sulfur group of donors, disulfide as acceptor',\n",
       " 'cytidine to uridine editing',\n",
       " 'positive regulation of transcription, DNA-templated',\n",
       " 'amino acid transport',\n",
       " 'positive regulation of transcription, DNA-templated',\n",
       " 'ATPase activity, coupled to transmembrane movement of ions, phosphorylative mechanism',\n",
       " 'late endosome to vacuole transport',\n",
       " 'mitochondrion',\n",
       " 'proteasome-mediated ubiquitin-dependent protein catabolic process',\n",
       " 'mitochondrion',\n",
       " 'photosynthesis, light harvesting in photosystem I',\n",
       " '2-oxoglutarate-dependent dioxygenase activity',\n",
       " 'regulation of transcription, DNA-templated',\n",
       " 'regulation of transcription, DNA-templated',\n",
       " 'isocitrate dehydrogenase (NAD+) activity',\n",
       " 'lysine biosynthetic process via aminoadipic acid',\n",
       " 'mitochondrion',\n",
       " 'plant-type cell wall biogenesis',\n",
       " 'oxygen binding',\n",
       " 'SRP-dependent cotranslational protein targeting to membrane, signal sequence recognition',\n",
       " \"ATP-dependent 3'-5' RNA helicase activity\",\n",
       " 'transporter activity',\n",
       " 'S-adenosylmethionine-dependent methyltransferase activity',\n",
       " 'positive regulation of abscisic acid-activated signaling pathway',\n",
       " 'killing of cells of other organism',\n",
       " 'oxidoreductase activity, acting on paired donors, with incorporation or reduction of molecular oxygen, NAD(P)H as one donor, and incorporation of one atom of oxygen',\n",
       " 'magnesium-dependent protein serine/threonine phosphatase activity',\n",
       " 'integral component of membrane',\n",
       " 'mitochondrion',\n",
       " 'carbohydrate metabolic process',\n",
       " 'regulation of defense response to fungus, incompatible interaction',\n",
       " 'mitochondrion',\n",
       " 'maintenance of meiotic sister chromatid cohesion',\n",
       " 'RNA-dependent DNA biosynthetic process',\n",
       " 'serine-type endopeptidase inhibitor activity',\n",
       " 'triplet codon-amino acid adaptor activity',\n",
       " 'purine nucleobase transmembrane transporter activity',\n",
       " 'neutral amino acid transmembrane transporter activity',\n",
       " 'plant-type hypersensitive response',\n",
       " 'monodehydroascorbate reductase (NADH) activity',\n",
       " 'carotene beta-ring hydroxylase activity',\n",
       " 'transmembrane receptor protein tyrosine kinase signaling pathway',\n",
       " 'chloroplast organization',\n",
       " 'integral component of membrane',\n",
       " 'mitochondrion',\n",
       " 'hydrogen peroxide catabolic process',\n",
       " 'pentose-phosphate shunt, non-oxidative branch',\n",
       " 'positive regulation of transcription by RNA polymerase II',\n",
       " 'stromal side of plastid thylakoid membrane',\n",
       " 'chloroplast',\n",
       " 'mitochondrion',\n",
       " 'cytoplasm',\n",
       " 'mitochondrion',\n",
       " 'lipid catabolic process',\n",
       " 'monooxygenase activity',\n",
       " 'inorganic phosphate transmembrane transporter activity',\n",
       " 'chloroplast',\n",
       " 'integral component of membrane',\n",
       " 'oligopeptide transmembrane transporter activity',\n",
       " 'embryo development ending in seed dormancy',\n",
       " 'defense response',\n",
       " 'transferase activity, transferring glycosyl groups',\n",
       " 'integral component of membrane',\n",
       " 'kinase activity',\n",
       " 'oxidoreductase activity, acting on paired donors, with incorporation or reduction of molecular oxygen, NAD(P)H as one donor, and incorporation of one atom of oxygen',\n",
       " 'epoxide hydrolase activity',\n",
       " 'mitochondrion',\n",
       " 'proteolysis involved in cellular protein catabolic process',\n",
       " 'dolichol-linked oligosaccharide biosynthetic process',\n",
       " 'hydrolase activity',\n",
       " 'mitochondrion',\n",
       " 'vegetative to reproductive phase transition of meristem',\n",
       " 'chloroplast ribulose bisphosphate carboxylase complex',\n",
       " 'proteasome-mediated ubiquitin-dependent protein catabolic process',\n",
       " 'chaperone cofactor-dependent protein refolding',\n",
       " 'chloroplast thylakoid membrane',\n",
       " 'vesicle docking involved in exocytosis',\n",
       " 'nutrient reservoir activity',\n",
       " 'regulation of transcription, DNA-templated',\n",
       " 'embryo development ending in seed dormancy',\n",
       " 'mitochondrion',\n",
       " 'ethylene biosynthetic process',\n",
       " 'cysteine-type endopeptidase inhibitor activity',\n",
       " 'ferredoxin:thioredoxin reductase activity',\n",
       " 'cytoplasm']"
      ]
     },
     "execution_count": 19,
     "metadata": {},
     "output_type": "execute_result"
    }
   ],
   "source": [
    "functional_gff = r\"D:\\josiah\\Documents\\Research\\Arabidopsis\\GO_annotation.gff\"\n",
    "list(go_function.values())[:100]"
   ]
  },
  {
   "cell_type": "markdown",
   "metadata": {
    "collapsed": false
   },
   "source": [
    "\n",
    "    with open(filename, 'r') as genes:\n",
    "        with open(functional_gff, 'w') as final_annotation:\n",
    "            for line in genes.readlines():\n",
    "                parts = line.split('\\t')\n",
    "                locus = parts[8].split(';')[0][3:]\n",
    "                if locus in go_function:\n",
    "                    function = go_function[locus]\n",
    "                    final_annotation.write('\\t'.join(parts[:8] + ['Name=%s;ID=%s'% (function, locus) ]) +'\\n')"
   ]
  },
  {
   "cell_type": "markdown",
   "metadata": {},
   "source": [
    "22,103 genes"
   ]
  },
  {
   "cell_type": "code",
   "execution_count": 20,
   "metadata": {
    "collapsed": true
   },
   "outputs": [],
   "source": [
    "from DNASkittleUtils.Contigs import Contig, read_contigs, write_contigs_to_file"
   ]
  },
  {
   "cell_type": "code",
   "execution_count": 21,
   "metadata": {
    "collapsed": false
   },
   "outputs": [
    {
     "name": "stdout",
     "output_type": "stream",
     "text": [
      "Done writing  1 contigs and 30,427,671bp\n",
      "Done writing  1 contigs and 19,698,289bp\n",
      "Done writing  1 contigs and 23,459,830bp\n",
      "Done writing  1 contigs and 18,585,056bp\n",
      "Done writing  1 contigs and 26,975,502bp\n",
      "Done writing  1 contigs and 366,924bp\n",
      "Done writing  1 contigs and 154,478bp\n"
     ]
    }
   ],
   "source": [
    "chromosomes = read_contigs(r\"D:\\josiah\\Documents\\Research\\Arabidopsis\\TAIR10_chr_all.fas\")\n",
    "for chrm in chromosomes:\n",
    "    chrm.name = chrm.name.split()[0]\n",
    "    write_contigs_to_file(join(r\"D:\\josiah\\Documents\\Research\\Arabidopsis\\Chromosomes\", chrm.name + '.fa'), [chrm])"
   ]
  },
  {
   "cell_type": "code",
   "execution_count": 22,
   "metadata": {
    "collapsed": false
   },
   "outputs": [
    {
     "data": {
      "text/plain": [
       "3845"
      ]
     },
     "execution_count": 22,
     "metadata": {},
     "output_type": "execute_result"
    }
   ],
   "source": [
    "from functools import reduce\n",
    "reduce(int.__mul__,[3,3,3,3,3,15]) + 200"
   ]
  },
  {
   "cell_type": "code",
   "execution_count": 23,
   "metadata": {
    "collapsed": false
   },
   "outputs": [
    {
     "data": {
      "text/plain": [
       "405"
      ]
     },
     "execution_count": 23,
     "metadata": {},
     "output_type": "execute_result"
    }
   ],
   "source": [
    "reduce(int.__mul__, [5,3,3,3,3,]) # coil_height"
   ]
  },
  {
   "cell_type": "markdown",
   "metadata": {},
   "source": [
    "# Dice up chromosomes according to annotation\n",
    "* Annotations will sometimes overlap. Sort by start position, grab nucleotides \n",
    "* and then look for next annotation whose end position is greater than nucleotides already taken\n",
    "* Start next annotation then and repeat\n",
    "* Some annotations will be lost completely, but not many if overlap is low, more likely case is truncation\n",
    "* When no active annotations, mark with the same name: Chromosome X between genes ###\n",
    "------------\n"
   ]
  },
  {
   "cell_type": "code",
   "execution_count": 24,
   "metadata": {
    "collapsed": false
   },
   "outputs": [],
   "source": [
    "annotation = parseGFF(functional_gff)"
   ]
  },
  {
   "cell_type": "code",
   "execution_count": 25,
   "metadata": {
    "collapsed": false
   },
   "outputs": [
    {
     "data": {
      "text/plain": [
       "dict_keys(['4', '2', 'M', '3', 'C', '1', '5'])"
      ]
     },
     "execution_count": 25,
     "metadata": {},
     "output_type": "execute_result"
    }
   ],
   "source": [
    "annotation.keys()"
   ]
  },
  {
   "cell_type": "code",
   "execution_count": 26,
   "metadata": {
    "collapsed": false
   },
   "outputs": [],
   "source": [
    "# force sorting\n",
    "for chr_entries in annotation.values():\n",
    "    chr_entries.sort(key=lambda e: e.start)"
   ]
  },
  {
   "cell_type": "code",
   "execution_count": 27,
   "metadata": {
    "collapsed": false
   },
   "outputs": [
    {
     "data": {
      "text/plain": [
       "True"
      ]
     },
     "execution_count": 27,
     "metadata": {},
     "output_type": "execute_result"
    }
   ],
   "source": [
    "all([entry.start >= annotation['2'][i-1].start for i, entry in enumerate(annotation['2'][:]) if i])"
   ]
  },
  {
   "cell_type": "code",
   "execution_count": 31,
   "metadata": {
    "collapsed": false
   },
   "outputs": [
    {
     "name": "stdout",
     "output_type": "stream",
     "text": [
      "Done writing  12386 contigs and 30,453,674bp\n",
      "30,453,674 Difference -26,003\n",
      "Done writing  7337 contigs and 19,731,769bp\n",
      "19,731,769 Difference -33,480\n",
      "Done writing  9174 contigs and 23,479,378bp\n",
      "23,479,378 Difference -19,548\n",
      "Done writing  7061 contigs and 18,611,740bp\n",
      "18,611,740 Difference -26,684\n",
      "Done writing  10787 contigs and 27,009,486bp\n",
      "27,009,486 Difference -33,984\n"
     ]
    }
   ],
   "source": [
    "def write_functional_gene_contigs_from_chromosome(chr_seq_file):\n",
    "    #assume the order of annotations by start, create sequential contigs\n",
    "    nucleotides_claimed = set()\n",
    "    annotated_sequences = []  # in order from start position, end position never overlaps next start\n",
    "    chr_seq = read_contigs(chr_seq_file)[0].seq\n",
    "    scaff_name = just_the_name(chr_seq_file)\n",
    "    current_start = 0\n",
    "    if scaff_name in annotation.keys():\n",
    "        for entry in annotation[scaff_name]:\n",
    "            new_start = entry.start - 1\n",
    "            end = entry.end - 1\n",
    "            if new_start + 1 > current_start:\n",
    "                annotated_sequences.append(Contig('between genes', chr_seq[current_start: new_start]))\n",
    "                #print('SPacer', new_start-current_start)\n",
    "            #else:\n",
    "                #pass\n",
    "            annotated_sequences.append(Contig(entry.name(), chr_seq[max(current_start, new_start) : end]))\n",
    "            #print(\"Gene %i - %i\" %(new_start, entry.end))\n",
    "            current_start = end\n",
    "\n",
    "    new_file = r\"D:\\josiah\\Documents\\Research\\Arabidopsis\\Chromosomes\\chr\"+ scaff_name + '_functions.fa'\n",
    "    write_contigs_to_file(new_file, annotated_sequences)\n",
    "    return [len(s.seq) for s in annotated_sequences], len(chr_seq) \n",
    "\n",
    "for chr_number in range(1,6):\n",
    "    chr_seq_file = r\"D:\\josiah\\Documents\\Research\\Arabidopsis\\Chromosomes\\%i.fa\" % chr_number\n",
    "    lengths, chr_length = write_functional_gene_contigs_from_chromosome(chr_seq_file)\n",
    "    print(pp(sum(lengths)), 'Difference', pp(chr_length - sum(lengths)))\n",
    "    "
   ]
  },
  {
   "cell_type": "code",
   "execution_count": 29,
   "metadata": {
    "collapsed": false
   },
   "outputs": [
    {
     "data": {
      "text/plain": [
       "19731769"
      ]
     },
     "execution_count": 29,
     "metadata": {},
     "output_type": "execute_result"
    }
   ],
   "source": [
    "19731769"
   ]
  },
  {
   "cell_type": "code",
   "execution_count": 30,
   "metadata": {
    "collapsed": false
   },
   "outputs": [
    {
     "data": {
      "text/plain": [
       "10787"
      ]
     },
     "execution_count": 30,
     "metadata": {},
     "output_type": "execute_result"
    }
   ],
   "source": [
    "len(lengths)"
   ]
  },
  {
   "cell_type": "markdown",
   "metadata": {},
   "source": [
    "### Layout\n",
    "* Ideogram has zero padding between contigs\n",
    "* Mouseover will iterate contigs til it finds the right one (could technically be overlapping)\n",
    "* "
   ]
  },
  {
   "cell_type": "code",
   "execution_count": null,
   "metadata": {
    "collapsed": true
   },
   "outputs": [],
   "source": []
  }
 ],
 "metadata": {
  "kernelspec": {
   "display_name": "Python 3",
   "language": "python",
   "name": "python3"
  },
  "language_info": {
   "codemirror_mode": {
    "name": "ipython",
    "version": 3
   },
   "file_extension": ".py",
   "mimetype": "text/x-python",
   "name": "python",
   "nbconvert_exporter": "python",
   "pygments_lexer": "ipython3",
   "version": "3.4.3"
  }
 },
 "nbformat": 4,
 "nbformat_minor": 1
}
