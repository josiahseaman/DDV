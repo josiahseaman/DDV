{
 "cells": [
  {
   "cell_type": "code",
   "execution_count": 25,
   "metadata": {
    "collapsed": false
   },
   "outputs": [],
   "source": [
    "from pandas import DataFrame, read_csv\n",
    "from os.path import join, basename\n",
    "from os.path import splitext, join\n",
    "from DNASkittleUtils.Annotations import parseGFF\n",
    "from DNASkittleUtils.Contigs import read_contigs\n",
    "from DNASkittleUtils.CommandLineUtils import just_the_name\n",
    "from DNASkittleUtils.DDVUtils import pp\n",
    "filename = r\"D:\\josiah\\Documents\\Research\\Arabidopsis\\TAIR10_GFF3_genes_only.gff3\""
   ]
  },
  {
   "cell_type": "code",
   "execution_count": 2,
   "metadata": {
    "collapsed": false,
    "scrolled": false
   },
   "outputs": [],
   "source": [
    "df = read_csv(r\"D:\\josiah\\Documents\\Research\\Arabidopsis\\functional_annotation.csv\",sep='\\t', error_bad_lines=False)# fields='Gene_Family\tGene_Name\tGenomic_Locus(BAC)\tGenomic_Locus_Tag\tProtein_Function'.split())"
   ]
  },
  {
   "cell_type": "code",
   "execution_count": 9,
   "metadata": {
    "collapsed": false
   },
   "outputs": [
    {
     "data": {
      "text/html": [
       "<div>\n",
       "<style scoped>\n",
       "    .dataframe tbody tr th:only-of-type {\n",
       "        vertical-align: middle;\n",
       "    }\n",
       "\n",
       "    .dataframe tbody tr th {\n",
       "        vertical-align: top;\n",
       "    }\n",
       "\n",
       "    .dataframe thead th {\n",
       "        text-align: right;\n",
       "    }\n",
       "</style>\n",
       "<table border=\"1\" class=\"dataframe\">\n",
       "  <thead>\n",
       "    <tr style=\"text-align: right;\">\n",
       "      <th></th>\n",
       "      <th>Gene_Family</th>\n",
       "      <th>Gene_Name</th>\n",
       "      <th>Genomic_Locus(BAC)</th>\n",
       "      <th>Genomic_Locus_Tag</th>\n",
       "      <th>Protein_Function</th>\n",
       "    </tr>\n",
       "  </thead>\n",
       "  <tbody>\n",
       "    <tr>\n",
       "      <th>0</th>\n",
       "      <td>IQD Protein Family</td>\n",
       "      <td>IQD1</td>\n",
       "      <td>NaN</td>\n",
       "      <td>At3g09710</td>\n",
       "      <td>NaN</td>\n",
       "    </tr>\n",
       "    <tr>\n",
       "      <th>1</th>\n",
       "      <td>IQD Protein Family</td>\n",
       "      <td>IQD2</td>\n",
       "      <td>NaN</td>\n",
       "      <td>At5g03040</td>\n",
       "      <td>NaN</td>\n",
       "    </tr>\n",
       "    <tr>\n",
       "      <th>2</th>\n",
       "      <td>IQD Protein Family</td>\n",
       "      <td>IQD3</td>\n",
       "      <td>NaN</td>\n",
       "      <td>At3g52290</td>\n",
       "      <td>NaN</td>\n",
       "    </tr>\n",
       "    <tr>\n",
       "      <th>3</th>\n",
       "      <td>IQD Protein Family</td>\n",
       "      <td>IQD4</td>\n",
       "      <td>NaN</td>\n",
       "      <td>At2g26410</td>\n",
       "      <td>NaN</td>\n",
       "    </tr>\n",
       "    <tr>\n",
       "      <th>4</th>\n",
       "      <td>IQD Protein Family</td>\n",
       "      <td>IQD5</td>\n",
       "      <td>NaN</td>\n",
       "      <td>At3g22190</td>\n",
       "      <td>NaN</td>\n",
       "    </tr>\n",
       "  </tbody>\n",
       "</table>\n",
       "</div>"
      ],
      "text/plain": [
       "          Gene_Family Gene_Name Genomic_Locus(BAC) Genomic_Locus_Tag  \\\n",
       "0  IQD Protein Family      IQD1                NaN         At3g09710   \n",
       "1  IQD Protein Family      IQD2                NaN         At5g03040   \n",
       "2  IQD Protein Family      IQD3                NaN         At3g52290   \n",
       "3  IQD Protein Family      IQD4                NaN         At2g26410   \n",
       "4  IQD Protein Family      IQD5                NaN         At3g22190   \n",
       "\n",
       "  Protein_Function  \n",
       "0              NaN  \n",
       "1              NaN  \n",
       "2              NaN  \n",
       "3              NaN  \n",
       "4              NaN  "
      ]
     },
     "execution_count": 9,
     "metadata": {},
     "output_type": "execute_result"
    }
   ],
   "source": [
    "df.head()"
   ]
  },
  {
   "cell_type": "code",
   "execution_count": 107,
   "metadata": {
    "collapsed": false
   },
   "outputs": [
    {
     "data": {
      "text/plain": [
       "8693"
      ]
     },
     "execution_count": 107,
     "metadata": {},
     "output_type": "execute_result"
    }
   ],
   "source": [
    "len(df)"
   ]
  },
  {
   "cell_type": "code",
   "execution_count": 106,
   "metadata": {
    "collapsed": false
   },
   "outputs": [
    {
     "data": {
      "text/plain": [
       "8693"
      ]
     },
     "execution_count": 106,
     "metadata": {},
     "output_type": "execute_result"
    }
   ],
   "source": [
    "sum(df['Gene_Family'].notnull())"
   ]
  },
  {
   "cell_type": "code",
   "execution_count": 22,
   "metadata": {
    "collapsed": false
   },
   "outputs": [
    {
     "data": {
      "text/plain": [
       "3723"
      ]
     },
     "execution_count": 22,
     "metadata": {},
     "output_type": "execute_result"
    }
   ],
   "source": [
    "sum(df['Protein_Function'].str.contains('putative')==False)"
   ]
  },
  {
   "cell_type": "code",
   "execution_count": 26,
   "metadata": {
    "collapsed": false
   },
   "outputs": [
    {
     "data": {
      "text/plain": [
       "5804"
      ]
     },
     "execution_count": 26,
     "metadata": {},
     "output_type": "execute_result"
    }
   ],
   "source": [
    "sum(df['Protein_Function'].notnull() & (df['Protein_Function'].str.contains('hypothetical protein')==False))"
   ]
  },
  {
   "cell_type": "code",
   "execution_count": 25,
   "metadata": {
    "collapsed": false
   },
   "outputs": [
    {
     "data": {
      "text/plain": [
       "0.21240660295395308"
      ]
     },
     "execution_count": 25,
     "metadata": {},
     "output_type": "execute_result"
    }
   ],
   "source": [
    "6112 /28775"
   ]
  },
  {
   "cell_type": "code",
   "execution_count": 36,
   "metadata": {
    "collapsed": false
   },
   "outputs": [
    {
     "data": {
      "text/plain": [
       "0.2944222415291051"
      ]
     },
     "execution_count": 36,
     "metadata": {},
     "output_type": "execute_result"
    }
   ],
   "source": [
    "8472 /28775"
   ]
  },
  {
   "cell_type": "code",
   "execution_count": 46,
   "metadata": {
    "collapsed": false
   },
   "outputs": [
    {
     "data": {
      "text/plain": [
       "7647"
      ]
     },
     "execution_count": 46,
     "metadata": {},
     "output_type": "execute_result"
    }
   ],
   "source": [
    "len(set(tags))"
   ]
  },
  {
   "cell_type": "code",
   "execution_count": 47,
   "metadata": {
    "collapsed": false
   },
   "outputs": [
    {
     "data": {
      "text/plain": [
       "7647"
      ]
     },
     "execution_count": 47,
     "metadata": {},
     "output_type": "execute_result"
    }
   ],
   "source": [
    "len(set([str(n) for n in tags if n]))"
   ]
  },
  {
   "cell_type": "code",
   "execution_count": 51,
   "metadata": {
    "collapsed": false
   },
   "outputs": [
    {
     "data": {
      "text/plain": [
       "0.2364900086880973"
      ]
     },
     "execution_count": 51,
     "metadata": {},
     "output_type": "execute_result"
    }
   ],
   "source": [
    "6805/28775"
   ]
  },
  {
   "cell_type": "code",
   "execution_count": 48,
   "metadata": {
    "collapsed": false,
    "scrolled": true
   },
   "outputs": [
    {
     "data": {
      "text/plain": [
       "6805"
      ]
     },
     "execution_count": 48,
     "metadata": {},
     "output_type": "execute_result"
    }
   ],
   "source": [
    "len(set([str(n).upper() for n in tags if n]))"
   ]
  },
  {
   "cell_type": "markdown",
   "metadata": {},
   "source": [
    "# Filter out to only genes with mentions in functional_annotation.csv"
   ]
  },
  {
   "cell_type": "code",
   "execution_count": 45,
   "metadata": {
    "collapsed": false
   },
   "outputs": [
    {
     "data": {
      "text/plain": [
       "(8472, 8693)"
      ]
     },
     "execution_count": 45,
     "metadata": {},
     "output_type": "execute_result"
    }
   ],
   "source": [
    "tag = df['Genomic_Locus_Tag'].notna()\n",
    "tags = df[tag]['Genomic_Locus_Tag']\n",
    "sum(tag), len(tag)"
   ]
  },
  {
   "cell_type": "code",
   "execution_count": 55,
   "metadata": {
    "collapsed": false,
    "scrolled": true
   },
   "outputs": [
    {
     "data": {
      "text/plain": [
       "6805"
      ]
     },
     "execution_count": 55,
     "metadata": {},
     "output_type": "execute_result"
    }
   ],
   "source": [
    "upper_case_loci = set([str(n).upper() for n in tags])\n",
    "len(upper_case_loci)"
   ]
  },
  {
   "cell_type": "code",
   "execution_count": 86,
   "metadata": {
    "collapsed": false
   },
   "outputs": [],
   "source": [
    "\n",
    "filtered_path = splitext(filename)[0] + '_with_functions' + splitext(filename)[1]\n",
    "with open(filename) as file:\n",
    "    with open(filtered_path, 'w') as outfile:\n",
    "        for line in file.readlines():\n",
    "            attributes = line.split('\\t')[8].split(';')\n",
    "            locus = attributes[0][3:]\n",
    "            if locus.upper() in upper_case_loci or name.upper() in upper_case_loci:\n",
    "                outfile.write(line)"
   ]
  },
  {
   "cell_type": "markdown",
   "metadata": {},
   "source": [
    "6652 lines"
   ]
  },
  {
   "cell_type": "markdown",
   "metadata": {},
   "source": [
    "#### Create Gene function Lookup"
   ]
  },
  {
   "cell_type": "code",
   "execution_count": 116,
   "metadata": {
    "collapsed": false
   },
   "outputs": [
    {
     "data": {
      "text/plain": [
       "{'AT3G47090': 'receptor kinase-like protein',\n",
       " 'AT1G27400': 'L17 in small subunit',\n",
       " 'AT3G19553': 'amino acid permease, ',\n",
       " 'AT1G78600': 'C2C2-CO-like Transcription Factor Family',\n",
       " 'AT5G55360': 'wax synthase-like protein',\n",
       " 'AT5G08130': 'bHLH Transcription Factor Family',\n",
       " 'AT3G11940': 'S5 in small subunit',\n",
       " 'AT1G28370': 'AP2-EREBP Transcription Factor Family',\n",
       " 'AT1G62660': 'beta-fructosidase',\n",
       " 'AT4G19210': 'RNase L inhibitor-like protein',\n",
       " 'AT4G37260': 'MYB Transcription Factor Family',\n",
       " 'AT3G13580': 'L7 in small subunit',\n",
       " 'AT4G34030': '3-methylcrotonyl-CoA carboxylase non-biotinylated subunit (MCCB)',\n",
       " 'AT2G46950': ' cytochrome P450',\n",
       " 'AT3G27970': 'C2H2 Transcription Factor Family',\n",
       " 'AT2G45110': 'beta-expansin pollen allergen protein',\n",
       " 'AT4G24750': ' protein',\n",
       " 'AT4G37640': 'plasma membrane-type calcium ATPase (ACA2)',\n",
       " 'AT1G56680': 'chitinase, ',\n",
       " 'AT3G09630': 'L4 in small subunit',\n",
       " 'AT5G15200': 'S9 in small subunit',\n",
       " 'AT1G48490': 'protein kinase, similar to IRE',\n",
       " 'AT5G45650': 'subtilisin-related protease, ',\n",
       " 'AT5G01810': 'serine/threonine protein kinase ATPK10',\n",
       " 'AT5G22440': 'L10a in small subunit',\n",
       " 'AT2G15680': 'EF-hand containing proteins',\n",
       " 'AT3G02150': 'TCP transcription factor family ',\n",
       " 'AT2G43700': ' receptor protein kinase',\n",
       " 'AT2G37600': 'L36 in small subunit',\n",
       " 'AT2G02070': 'zinc finger (C2H2 type) family protein',\n",
       " 'AT5G47330': 'palmitoyl protein thioesterase precursor, ',\n",
       " 'AT3G01930': 'Nodulin-like protein family',\n",
       " 'AT3G49010': 'L13 in small subunit',\n",
       " 'AT5G64140': 'S28 in small subunit',\n",
       " 'AT2G23260': ' glucosyltransferase',\n",
       " 'AT2G15230': 'lipase family',\n",
       " 'AT3G62250': 'S27a in small subunit',\n",
       " 'AT5G01950': ' protein',\n",
       " 'AT1G47870': 'E2F-DP Transcription Factor Family',\n",
       " 'AT4G22690': 'cytochrome P450 like protein',\n",
       " 'AT5G51780': 'bHLH Transcription Factor Family',\n",
       " 'AT1G51660': 'MAP kinase kinase 4 (ATMKK4)',\n",
       " 'AT2G14440': ' receptor-like protein kinase',\n",
       " 'AT1G58983': 'S2 in small subunit, newly identified ',\n",
       " 'AT3G02850': 'telar K+ outward rectifying channel (SKOR)',\n",
       " 'AT1G24620': 'EF-hand containing proteins',\n",
       " 'AT4G17690': 'Class III peroxidase',\n",
       " 'AT1G15110': 'phosphatidylserine synthase -related',\n",
       " 'AT3G11470': 'expressed protein',\n",
       " 'AT5G11150': ' protein',\n",
       " 'AT4G31060': 'AP2-EREBP Transcription Factor Family',\n",
       " 'AT1G20640': 'NLP Transcription Factor Family',\n",
       " 'AT3G48950': 'endo-polygalacturonase - like protein',\n",
       " 'AT2G29450': 'glutathione S-transferase (103-1A)',\n",
       " 'AT4G19380': 'alcohol oxidase-related',\n",
       " 'AT4G15330': 'cytochrome P450 like protein',\n",
       " 'AT5G08790': 'NAC Transcription Factor Family',\n",
       " 'AT5G07070': 'serine threonine protein kinase-like protein',\n",
       " 'AT2G31770': 'C3H Transcription Factor Family',\n",
       " 'AT3G18650': 'M beta',\n",
       " 'AT3G13840': 'GRAS Transcription Factor Family',\n",
       " 'AT1G05590': 'Glycoside Hydrolase Gene Families',\n",
       " 'AT1G75830': ' plant defensin gene',\n",
       " 'AT1G77390': 'Core Cell Cycle Genes',\n",
       " 'AT2G13620': 'Cation/H+ Exchanger (CHX) Protein',\n",
       " 'AT1G53020': 'ubiquitin-conjugating enzyme, ',\n",
       " 'AT4G21650': 'subtilisin proteinase - like, subtilisin-like proteinase ag12, Alnus glutinosa, PIR2:S52769 ',\n",
       " 'AT2G21240': 'The BBR/BPC-transcription factor family appears to play a role in the regulation of basal transcription',\n",
       " 'AT2G28340': 'C2C2-Gata Transcription Factor Family',\n",
       " 'AT5G49690': 'anthocyanidin-3-glucoside rhamnosyltransferase-like',\n",
       " 'AT3G60130': 'beta-glucosidase-like protein',\n",
       " 'AT3G15720': ' polygalacturonase',\n",
       " 'AT1G10670': 'ATP citrate-lyase -related',\n",
       " 'AT2G39930': ' isoamylase',\n",
       " 'AT4G16120': 'expressed protein',\n",
       " 'AT2G26600': ' beta-1,3-glucanase',\n",
       " 'AT4G04720': 'CDPKs',\n",
       " 'AT5G50160': 'FRO1 and FRO2-like protein',\n",
       " 'AT4G16070': 'lipase (class 3) family',\n",
       " 'AT2G36080': 'RAV Transcription Factor Family',\n",
       " 'AT4G05330': 'C2H2 Transcription Factor Family',\n",
       " 'AT2G30200': 'malonyl-CoA:Acyl carrier protein transacylase -related',\n",
       " 'AT2G38390': 'Class III peroxidase',\n",
       " 'AT5G20480': 'receptor protein kinase - like',\n",
       " 'AT4G24230': 'expressed protein',\n",
       " 'AT1G10550': ' endoxyloglucan transferase',\n",
       " 'AT1G69600': 'zinc finger-homeobox gene family',\n",
       " 'AT5G64750': 'AP2-EREBP Transcription Factor Family',\n",
       " 'AT1G06280': 'Lateral Organ Boundaries Gene Family',\n",
       " 'AT4G33330': ' protein ',\n",
       " 'AT4G04890': 'Homeobox Transcription Factor Family',\n",
       " 'AT1G35460': 'bHLH Transcription Factor Family',\n",
       " 'AT5G25930': 'receptor-like protein kinase - like',\n",
       " 'AT5G14280': 'GeBP Transcription Factor Family',\n",
       " 'AT1G68520': 'C2C2-CO-like Transcription Factor Family',\n",
       " 'AT1G54580': 'acyl carrier protein (ACP), chloroplast, ',\n",
       " 'AT5G16530': ' protein',\n",
       " 'AT2G40100': ' chlorophyll a/b binding protein',\n",
       " 'AT2G37000': '3',\n",
       " 'AT4G15300': 'cytochrome P450 like protein',\n",
       " 'AT5G40430': 'MYB Transcription Factor Family',\n",
       " 'AT4G21080': 'Dof-type zinc finger domain-containing protein',\n",
       " 'AT5G49520': ' protein',\n",
       " 'AT1G12960': 'L27a in small subunit',\n",
       " 'AT2G42280': 'bHLH Transcription Factor Family',\n",
       " 'AT1G09860': 'Organic Solute Cotransporters',\n",
       " 'AT3G62340': ' protein',\n",
       " 'AT5G46040': 'peptide transporter',\n",
       " 'AT2G18870': 'VERNALIZATION5/VIN3-Like',\n",
       " 'AT3G16490': 'IQD Protein Family',\n",
       " 'AT2G02060': 'G2-like Transcription Factor Family',\n",
       " 'AT4G18390': '3',\n",
       " 'AT3G14620': ' cytochrome P450',\n",
       " 'AT1G09000': ' NPK1-related protein kinase 2',\n",
       " 'AT1G54100': 'aldehyde dehydrogenase,  / antiquitin, ',\n",
       " 'AT1G68880': 'bZIP Transcription Factor Family',\n",
       " 'AT3G23840': 'transferase family',\n",
       " 'AT1G76650': 'EF-hand containing proteins',\n",
       " 'AT2G47520': 'AP2-EREBP Transcription Factor Family',\n",
       " 'AT3G08920': 'Sulfurtransferasese / Rhodanese Family',\n",
       " 'AT1G02150': 'EF-hand containing proteins',\n",
       " 'AT2G07680': ' ABC transporter',\n",
       " 'AT1G01100': 'P1 in small subunit',\n",
       " 'AT5G24090': 'acidic endochitinase (dbj|BAA21861.1)',\n",
       " 'AT5G28900': 'EF-hand containing proteins',\n",
       " 'AT2G35060': ' potassium transporter',\n",
       " 'AT4G19010': '4-coumarate:CoA ligase (4-coumaroyl-CoA synthase) family',\n",
       " 'AT5G63450': 'cytochrome P450-like protein',\n",
       " 'AT4G16600': 'glucosyltransferase like protein',\n",
       " 'AT2G41980': 'C3H Transcription Factor Family',\n",
       " 'AT1G17840': 'ABC transporter, ',\n",
       " 'AT4G02500': ' glycosyltransferase',\n",
       " 'AT1G18550': 'Kinesins',\n",
       " 'AT4G15270': 'UTP-glucose glucosyltransferase like protein ',\n",
       " 'AT3G51380 ': 'IQD Protein Family',\n",
       " 'AT1G57660': 'L21 in small subunit',\n",
       " 'AT3G04110': ' glutamate receptor (GLR1)',\n",
       " 'AT3G46570': 'glucosidase-like protein',\n",
       " 'AT1G20760': 'EF-hand containing proteins',\n",
       " 'AT1G70790': 'C2H2 Transcription Factor Family',\n",
       " 'AT5G01980': 'C3H Transcription Factor Family',\n",
       " 'AT2G29320': ' tropinone reductase',\n",
       " 'AT3G55130': 'ABC transporter - like protein',\n",
       " 'AT2G02590': ' transport protein',\n",
       " 'AT2G28260': ' cyclic nucleotide and calmodulin-regulated ion channel protein',\n",
       " 'AT3G45440': 'receptor like protein kinase',\n",
       " 'AT5G07550': 'glycine-rich protein PUTG1',\n",
       " 'AT1G61630': 'Organic Solute Cotransporters',\n",
       " 'AT5G67400': 'Class III peroxidase',\n",
       " 'AT5G58390': 'Class III peroxidase',\n",
       " 'AT5G55350': 'wax synthase-like protein',\n",
       " 'AT5G24180': 'lipase (class 3) family',\n",
       " 'AT4G14450': 'SNAREs',\n",
       " 'AT1G48640': 'lysine and histidine specific transporter, ',\n",
       " 'AT4G15232': 'ABC transporters (Smart Lab)',\n",
       " 'AT5G59680': 'serine/threonine-specific protein kinase - like',\n",
       " 'AT3G60270': 'stellacyanin (uclacyanin 3) - like protein',\n",
       " 'AT5G62680': 'peptide transporter',\n",
       " 'AT5G05960': 'protease inhibitor/seed storage/lipid transfer protein (LTP) family ',\n",
       " 'AT1G11610': ' cytochrome P450',\n",
       " 'AT4G03930': ' pectinesterase',\n",
       " 'AT1G44170': 'aldehyde dehydrogenase,  (ALDH)',\n",
       " 'AT5G42780': 'zinc finger-homeobox gene family',\n",
       " 'AT3G49380': 'IQD Protein Family',\n",
       " 'AT3G23000': 'SNF1 related protein kinase (ATSRPK1)',\n",
       " 'AT3G15870': ' delta 9 desaturase',\n",
       " 'AT1G70430': 'Ste-20 related kinase SPAK, ',\n",
       " 'AT4G38510': 'non-catalytic ATP-binding V1-ATPase subunit B2',\n",
       " 'AT4G14130': 'xyloglucan endotransglycosylase-related protein XTR-7',\n",
       " 'AT5G23050': 'AMP-dependent synthetase and ligase family',\n",
       " 'AT5G16560': 'G2-like Transcription Factor Family',\n",
       " 'AT1G32270': 'syntaxin, ',\n",
       " 'AT1G78720': 'protein transport protein sec61 alpha subunit, ',\n",
       " 'AT3G58120': 'bZIP Transcription Factor Family',\n",
       " 'AT5G41315': 'bHLH Transcription Factor Family',\n",
       " 'AT4G28610': 'G2-like Transcription Factor Family',\n",
       " 'AT3G09540': ' pectate lyase',\n",
       " 'AT1G76510': 'ARID Transcription Factor Family',\n",
       " 'AT4G10770': ' oligopeptide transporter',\n",
       " 'AT1G17550': 'protein phosphatase 2C-related',\n",
       " 'AT1G64950': 'Cytochrome P450',\n",
       " 'AT3G59700': 'serine/threonine-specific kinase lecRK1 precursor',\n",
       " 'AT1G60800': 'receptor-like kinase, ',\n",
       " 'AT3G30340': 'Nodulin-like protein family',\n",
       " 'AT4G29390': 'S30 in small subunit',\n",
       " 'AT4G07390': 'not found',\n",
       " 'AT4G13510': 'ammonium transport protein (AMT1)',\n",
       " 'AT3G06120': 'bHLH Transcription Factor Family',\n",
       " 'AT4G18250': 'receptor serine/threonine kinase-like protein',\n",
       " 'AT1G67030': 'C2H2 Transcription Factor Family',\n",
       " 'AT1G67880': 'Glycosyltransferase Gene Families',\n",
       " 'AT1G61950': 'CDPKs',\n",
       " 'AT4G08290': 'nodulin-like protein',\n",
       " 'AT1G20700': 'strong similarity to homeodomain protein PALE-2 (GI:20152544) [Arabidopsis thaliana]; contains Pfam profile: PF00046 homeobox domain ',\n",
       " 'AT3G46900': 'copper transport protein - like protein',\n",
       " 'AT2G18240': ' integral membrane protein',\n",
       " 'AT5G20885': 'C3H Transcription Factor Family',\n",
       " 'AT1G18750': 'homeodomain transcription factor, \"',\n",
       " 'AT3G03190': 'glutathione transferase, ',\n",
       " 'AT1G48970': 'Eukaryotic Initiation Factor Gene Family',\n",
       " 'AT1G01010': 'NAC Transcription Factor Family',\n",
       " 'AT3G56700': 'Acyl Lipid Metabolism Family',\n",
       " 'AT3G30725': 'unknown',\n",
       " 'AT5G14120': 'nodulin-like protein',\n",
       " 'AT3G48170': 'betaine-aldehyde dehydrogenase, ',\n",
       " 'AT3G17510': 'CBL-interacting serione-threonine Protein Kinases (AtCIPKs) ',\n",
       " 'AT4G33830': ' protein',\n",
       " 'AT1G70940': 'auxin transport protein REH1, ',\n",
       " 'AT5G09970': 'cytochrome P450',\n",
       " 'AT1G53010': 'C3H Transcription Factor Family',\n",
       " 'AT1G02340': 'bHLH Transcription Factor Family',\n",
       " 'AT4G30280': 'xyloglucan endo-1,4-beta-D-glucanase-like protein',\n",
       " 'AT4G13420': 'potassium transporter - like protein',\n",
       " 'AT5G14570': 'high affinity nitrate transporter - like protein',\n",
       " 'AT5G15520': 'S19 in small subunit',\n",
       " 'AT5G50180': 'protein kinase ATN1-like protein',\n",
       " 'AT2G33100': ' cellulose synthase',\n",
       " 'AT3G60030': 'squamosa promoter binding protein-like 12 (SPL12)',\n",
       " 'AT5G09460': 'bHLH Transcription Factor Family',\n",
       " 'AT5G62230': ' protein',\n",
       " 'AT3G22100': 'bHLH Transcription Factor Family',\n",
       " 'AT4G15200': 'actin nucleating protein, transmembrane?, contains FH1 (poly Pro) and FH2 domains -structure type A',\n",
       " 'AT1G15880': 'cis-Golgi SNARE protein, ',\n",
       " 'AT2G46430': ' cyclic nucleotide-regulated ion channel protein',\n",
       " 'AT5G14210': 'receptor protein kinase-like protein',\n",
       " 'AT1G34670': 'MYB Transcription Factor Family',\n",
       " 'AT3G46850': 'subtilisin-like serine protease, contains similarity to prepro-cucumisin GI:807698 from (Cucumis melo); ',\n",
       " 'AT1G53660': 'phosphate/phosphoenolpyruvate translocator precursor, ',\n",
       " 'AT2G18710': ' preprotein translocase SECY protein',\n",
       " 'AT1G71750': 'involved in purine salvage by catalyzing the conversion of xanthine and PRPP to IMP an Ppi EC 2.4.2.8',\n",
       " 'AT1G79680': 'wall-associated kinase 2, ',\n",
       " 'AT1G22590': 'expressed protein',\n",
       " 'AT2G22830': ' squalene epoxidase',\n",
       " 'AT2G25540': ' cellulose synthase catalytic subunit',\n",
       " 'AT3G01220': 'Homeobox Transcription Factor Family',\n",
       " 'AT3G46700': 'glucuronosyl transferase-like protein ',\n",
       " 'AT4G14640': 'EF-hand containing proteins',\n",
       " 'AT1G69940': ' pectin methylesterase',\n",
       " 'AT1G72250': 'kinesin, ',\n",
       " 'AT1G21540': 'EF-hand containing proteins',\n",
       " 'AT5G13990': ' Exo70 subunit of the exocyst complex',\n",
       " 'AT5G06080': ' protein',\n",
       " 'AT2G41130': 'bHLH Transcription Factor Family',\n",
       " 'AT5G61270': 'bHLH Transcription Factor Family',\n",
       " 'AT2G22330': ' cytochrome P450',\n",
       " 'AT1G52150': 'Homeobox Transcription Factor Family',\n",
       " 'AT1G72130': 'peptide transporter PTR2-B, ',\n",
       " 'AT5G18110': 'eukaryotic cap-binding protein (gb|AAC17220.1)',\n",
       " 'AT3G26790': 'ABI3VP1 Transcription Factor Family',\n",
       " 'AT1G24180': 'pyruvate dehydrogenase E1 alpha subunit',\n",
       " 'AT1G64000': 'WRKY DNA binding protein, ',\n",
       " 'AT4G01010': 'cyclic nucleotide gated channel (CNGC4) like protein',\n",
       " 'AT5G17490': 'GRAS Transcription Factor Family',\n",
       " 'AT5G49190': 'sucrose synthase ',\n",
       " 'AT5G60120': 'AP2-EREBP Transcription Factor Family',\n",
       " 'AT2G35620': ' receptor-like protein kinase',\n",
       " 'AT5G65330': 'M beta',\n",
       " 'AT5G57110': 'Ca2+-transporting ATPase-like protein (emb|CAB79748.1)',\n",
       " 'AT5G01690': ' transporter protein',\n",
       " 'AT5G23190': 'cytochrome P450-like protein',\n",
       " 'AT5G14940': 'oligopeptide transporter -like protein',\n",
       " 'AT2G38530': 'nonspecific lipid transfer protein 2 (LTP 2) ',\n",
       " 'AT1G29600': 'C2H2 Transcription Factor Family',\n",
       " 'AT3G61810': ' protein',\n",
       " 'AT3G22570': 'protease inhibitor/seed storage/lipid transfer protein (LTP) family ',\n",
       " 'AT1G75420': 'Glycosyltransferase Gene Families',\n",
       " 'AT3G02380': 'C2C2-CO-like Transcription Factor Family',\n",
       " 'AT1G07340': 'hexose transporter, ',\n",
       " 'AT4G39110': ' receptor-like protein kinase',\n",
       " 'AT1G64625': 'bHLH Transcription Factor Family',\n",
       " 'AT1G06290': 'acyl-CoA oxidase -related',\n",
       " 'AT5G04240': 'C2H2 Transcription Factor Family',\n",
       " 'AT2G39250': 'AP2-EREBP Transcription Factor Family',\n",
       " 'AT2G39590': 'S15a in small subunit',\n",
       " 'AT1G68690': 'Trihelix Transcription Factor Family',\n",
       " 'AT1G02065': 'squamosa promoter-binding protein-like 8 (SPL8)',\n",
       " 'AT5G35840 ': 'phytochrome C (sp|P14714)',\n",
       " 'AT3G53140': ' O-diphenol-O-methyl transferase',\n",
       " 'AT1G60040': 'M beta',\n",
       " 'AT5G13910': 'AP2-EREBP Transcription Factor Family',\n",
       " 'AT4G37130': 'NAC Transcription Factor Family',\n",
       " 'AT2G30770': ' cytochrome P450',\n",
       " 'AT2G45220': ' pectinesterase',\n",
       " 'AT5G01240': 'LAX1 / AUX1 -like permease',\n",
       " 'AT3G14270': 'EF-hand containing proteins',\n",
       " 'AT5G12330': 'C2H2 Transcription Factor Family',\n",
       " 'AT1G75130': ' cytochrome P450',\n",
       " 'AT2G31910': 'Cation/H+ Exchanger (CHX) Protein',\n",
       " 'AT3G12690': 'protein kinase',\n",
       " 'AT2G03210': 'Miscellaneous Membrane Protein Families',\n",
       " 'AT4G34000': 'bZIP Transcription Factor Family',\n",
       " 'AT1G14600': 'G2-like Transcription Factor Family',\n",
       " 'AT4G31730': 'unknown',\n",
       " 'AT3G07940': 'C2H2 Transcription Factor Family',\n",
       " 'AT3G56450': 'alpha-soluble NSF attachment protein-like',\n",
       " 'AT2G35380': 'EF-hand containing proteins',\n",
       " 'AT3G11840': 'Plant U-box protein (PUB) ',\n",
       " 'AT4G04770': ' ABC transporter',\n",
       " 'AT1G32410': 'EF-hand containing proteins',\n",
       " 'AT1G06360': 'delta 9 desaturase, ',\n",
       " 'AT3G27780': 'MYB Transcription Factor Family',\n",
       " 'AT4G17770': 'trehalose-6-phosphate synthase like protein',\n",
       " 'AT3G55940': 'phosphoinositide specific phospholipase C, ',\n",
       " 'AT5G15160': 'bHLH Transcription Factor Family',\n",
       " 'AT5G61590': 'AP2-EREBP Transcription Factor Family',\n",
       " 'AT2G45650': 'MIKC',\n",
       " 'AT1G51680': ' 4-coumarate:CoA ligase 1 (4-coumaroyl-CoA synthase 1)',\n",
       " 'AT2G47800': 'glutathione-conjugate transporter AtMRP4',\n",
       " 'AT3G27560': ' protein kinase, ATN1',\n",
       " 'AT4G34530': 'bHLH Transcription Factor Family',\n",
       " 'AT4G38310 (FRAGMENT)': ' protein ',\n",
       " 'AT1G78410': 'Glycoside Hydrolase Gene Families',\n",
       " 'AT5G63840': 'glucosidase II alpha subunit',\n",
       " 'AT4G36060': 'bHLH Transcription Factor Family',\n",
       " 'AT3G61850': 'Dof zinc finger protein DAG1 / Dof affecting germination 1 (DAG1) / transcription factor BBFa (BBFA)',\n",
       " 'AT2G24050': ' eukaryotic initiation factor 4, eIF4',\n",
       " 'AT5G56870': 'glycosyl hydrolase family 35 (beta-galactosidase) ',\n",
       " 'AT2G36200': ' kinesin-related cytokinesis protein',\n",
       " 'AT5G57610': ' protein',\n",
       " 'AT2G44940': 'AP2-EREBP Transcription Factor Family',\n",
       " 'AT1G76310': 'Core Cell Cycle Genes',\n",
       " 'AT5G15860': 'Carboxylesterase-like protein',\n",
       " 'AT3G11900': ' amino acid transporter protein',\n",
       " 'AT1G43160': 'AP2-EREBP Transcription Factor Family',\n",
       " 'AT3G51190': 'L8 in small subunit',\n",
       " 'AT5G42445': 'incomplete ORF',\n",
       " 'AT1G25310': 'bHLH Transcription Factor Family',\n",
       " 'AT4G38250': ' amino acid transport protein',\n",
       " 'AT5G56960': 'bHLH Transcription Factor Family',\n",
       " 'AT4G02300': ' pectinesterase',\n",
       " 'AT5G45780': 'receptor-like protein kinase',\n",
       " 'AT4G32170': 'cytochrome p450 - like protein',\n",
       " 'AT3G44350': 'NAC Transcription Factor Family',\n",
       " 'AT1G60300': 'NAC Transcription Factor Family',\n",
       " 'AT5G48760': 'L13a in small subunit',\n",
       " 'AT3G25010': 'disease resistance protein',\n",
       " 'AT5G20250': 'glycosyl hydrolase family 36',\n",
       " 'AT4G28811': 'bHLH Transcription Factor Family',\n",
       " 'AT1G30400': 'glutathione S-conjugate transporting ATPase (AtMRP1)',\n",
       " 'AT4G22090': 'pectate lyase like protein',\n",
       " 'AT2G47810': 'CCAAT-HAP3 Transcription Factor Family',\n",
       " 'AT3G04080': 'Single gene-encoded CBPs',\n",
       " 'AT3G12800': 'expressed protein',\n",
       " 'AT3G48580': 'endoxyloglucan transferase-like protein',\n",
       " 'AT2G47890': 'C2C2-CO-like Transcription Factor Family',\n",
       " 'AT2G22430': 'Homeobox Transcription Factor Family',\n",
       " 'AT2G27630': 'C2H2 Transcription Factor Family',\n",
       " 'AT3G06260': ' glycosyl transferase',\n",
       " 'AT3G21390': 'Organic Solute Cotransporters',\n",
       " 'AT4G33970': 'Trihelix Transcription Factor Family',\n",
       " 'AT4G39400': 'brassinosteroid insensitive 1 gene (BRI1)',\n",
       " 'AT1G32150': 'bZIP Transcription Factor Family',\n",
       " 'AT1G24320': ' glucosidase',\n",
       " 'AT1G04790': 'C3H Transcription Factor Family',\n",
       " 'AT3G03550': 'C3H Transcription Factor Family',\n",
       " 'AT3G03050': ' cellulose synthase catalytic subunit',\n",
       " 'AT4G37430': 'cytochrome P450 monooxygenase (CYP91A2)',\n",
       " 'AT5G17810': 'similar to to PRESSED FLOWER (GP:17907768) {Arabidopsis thaliana}; ',\n",
       " 'AT5G53810': ' O-methyltransferase 1',\n",
       " 'AT5G35670': 'IQD Protein Family',\n",
       " 'AT3G56970': 'bHLH Transcription Factor Family',\n",
       " 'AT2G01120': 'Putative component of the origin recognition complex (ORC)',\n",
       " 'AT5G18270': 'NAC Transcription Factor Family',\n",
       " 'AT1G20710': 'similar to homeodomain protein PALE-2 (GI:20152544) [Arabidopsis thaliana]; contains Pfam profile: PF00046 homeobox domain ',\n",
       " 'AT3G47790': 'ABC-type transport protein-like protein',\n",
       " 'AT1G24170': ' glycosyl transferase',\n",
       " 'AT4G19130': 'RPA functions as a heterotrimeric complex to stabilize ssDNA during replication, repair and transcription.',\n",
       " 'AT2G47190': 'MYB Transcription Factor Family',\n",
       " 'AT5G54650': 'actin nucleating protein, transmembrane, contains FH1 (poly Pro) and FH2 domains -structure type A',\n",
       " 'AT2G37170': 'aquaporin (plasma membrane intrinsic protein 2B)',\n",
       " 'AT2G41820': ' receptor-like protein kinase',\n",
       " 'AT5G40130': 'incomplete ORF',\n",
       " 'AT2G27130': 'Lipid Metabolism Gene Families',\n",
       " 'AT5G15820': 'C3H Transcription Factor Family',\n",
       " 'AT1G69920': 'glutathione transferase, ',\n",
       " 'AT4G00120': 'bHLH Transcription Factor Family',\n",
       " 'AT5G13450': 'delta subunit of mitochondrial F1-ATPase',\n",
       " 'AT5G07520 ': 'glycine-rich protein GRP18',\n",
       " 'AT1G79360': 'Organic Solute Cotransporters',\n",
       " 'AT1G62940': '4-coumarate:CoA ligase (4-coumaroyl-CoA synthase) family',\n",
       " 'AT3G62000': 'O-methyltransferase family 3',\n",
       " 'AT3G11820': ' syntaxin',\n",
       " 'AT4G31610': 'REM Transcription Factor Family',\n",
       " 'AT2G42830': 'MIKC',\n",
       " 'AT4G08000': 'EF-hand containing proteins',\n",
       " 'AT4G36130': 'L8 in small subunit',\n",
       " 'AT5G61700': 'ABC family transporter - like protein',\n",
       " 'AT5G05890': 'glucuronosyl transferase-like protein',\n",
       " 'AT3G55320': 'P-glycoprotein - like',\n",
       " 'AT3G08580': 'adenylate translocator',\n",
       " 'AT1G18530': 'EF-hand containing proteins',\n",
       " 'AT3G52840': 'beta-galactosidase precursor - like protein',\n",
       " 'AT3G24140': 'bHLH Transcription Factor Family',\n",
       " 'AT2G34250': ' protein transport protein SEC61 alpha subunit',\n",
       " 'AT3G17440': 'SNAREs',\n",
       " 'AT4G11460': 'serine/threonine kinase-like protein',\n",
       " 'AT3G53870': 'S3 in small subunit',\n",
       " 'AT4G38140': 'C3H Transcription Factor Family',\n",
       " 'AT1G68480': 'C2H2 Transcription Factor Family',\n",
       " 'AT3G19500': 'bHLH Transcription Factor Family',\n",
       " 'AT4G29410': 'L28 in small subunit',\n",
       " 'AT3G44590': 'P2 in small subunit',\n",
       " 'AT2G26950': 'MYB Transcription Factor Family',\n",
       " 'AT5G08139': 'C3H Transcription Factor Family',\n",
       " 'AT1G78920': 'vacuolar-type H+-translocating inorganic pyrophosphatase',\n",
       " 'AT3G49060': 'Plant U-box protein (PUB) ',\n",
       " 'AT1G63440': 'ATP dependent copper transporter, ',\n",
       " 'AT1G64930': 'Cytochrome P450',\n",
       " 'AT1G74930': 'AP2-EREBP Transcription Factor Family',\n",
       " 'AT1G13090': ' cytochrome P450 monooxygenase',\n",
       " 'AT1G09640': 'expressed protein',\n",
       " 'AT3G07900': ' auxin-independent growth promoter',\n",
       " 'AT2G06850': 'xyloglucan endotransglycosylase (ext/EXGT-A1)',\n",
       " 'AT4G36620': 'C2C2-Gata Transcription Factor Family',\n",
       " 'AT2G46730': 'REM Transcription Factor Family',\n",
       " 'AT4G13710': ' pectate lyase A11 (fragment)',\n",
       " 'AT2G02020': ' peptide/amino acid transporter',\n",
       " 'AT4G22950': 'MIKC',\n",
       " 'AT2G24640': ' ubiquitin carboxyl terminal hydrolase',\n",
       " 'AT2G34820': 'bHLH Transcription Factor Family',\n",
       " 'AT5G42180': 'Class III peroxidase',\n",
       " 'AT3G47600': 'MYB Transcription Factor Family',\n",
       " 'AT4G04695': 'Calcium Dependent Protein Kinase',\n",
       " 'AT5G17820': 'Class III peroxidase',\n",
       " 'AT1G51470': 'myrosinase precursor, ',\n",
       " 'AT3G07200': 'C3H Transcription Factor Family',\n",
       " 'AT4G38960': 'C2C2-CO-like Transcription Factor Family',\n",
       " 'AT3G13620': 'Organic Solute Cotransporters',\n",
       " 'AT4G04740': 'CDPKs',\n",
       " 'AT2G27120': 'Putative catalytic subunit of the DNA polymerase epsilon (POLE) complex',\n",
       " 'AT4G25490': 'AP2-EREBP Transcription Factor Family',\n",
       " 'AT2G29460': 'glutathione transferase, ',\n",
       " 'AT3G16560': 'protein phosphatase 2C-related',\n",
       " 'AT1G09540': 'MYB Transcription Factor Family',\n",
       " 'AT3G49110': 'Class III peroxidase',\n",
       " 'AT1G04850': 'C2H2 Transcription Factor Family',\n",
       " 'AT2G20110': 'CPP Transcription Factor Family',\n",
       " 'AT5G06710': 'Homeobox Transcription Factor Family',\n",
       " 'AT2G24430': 'NAC Transcription Factor Family',\n",
       " 'AT1G50680': 'RAV Transcription Factor Family',\n",
       " 'AT3G24830': 'L13a in small subunit',\n",
       " 'AT1G09510': ' cinnamyl alcohol dehydrogenase',\n",
       " 'AT2G19150': ' pectinesterase',\n",
       " 'AT5G27550': 'kinesin-like protein',\n",
       " 'AT3G57260': 'beta-1,3-glucanase 2 (BG2) (PR-2)',\n",
       " 'AT4G16620': 'membrane protein homolog',\n",
       " 'AT3G55530': 'C3H Transcription Factor Family',\n",
       " 'AT2G40220': 'AP2-EREBP Transcription Factor Family',\n",
       " 'AT4G23490': ' protein',\n",
       " 'AT3G43860': 'cellulase-like protein',\n",
       " 'AT1G74920': 'betaine-aldehyde dehydrogenase, ',\n",
       " 'AT1G14350': 'MYB Transcription Factor Family',\n",
       " 'AT1G68070': 'C3H Transcription Factor Family',\n",
       " 'AT1G33030': 'O-methyltransferase family 2',\n",
       " 'AT1G22360': 'UDP-glucose glucosyltransferase',\n",
       " 'AT2G45120': 'C2H2 Transcription Factor Family',\n",
       " 'AT1G33790': 'EF-hand containing proteins',\n",
       " 'AT5G19660': 'subtilisin-related protein, subtilisin/kexin isozyme SKI-1 precursor - Rattus norvegicus, EMBL:AF094821 ',\n",
       " 'AT5G08370': 'glycosyl hydrolase family 27 (alpha-galactosidase/melibiase)',\n",
       " 'AT2G31070': '3',\n",
       " 'AT3G28710': 'integral V0-ATPase subunit d1 involved in V0 assembly, stability',\n",
       " 'AT4G29470': ' protein',\n",
       " 'AT3G16850': 'polygalacturonase, ',\n",
       " 'AT3G25410': 'Organic Solute Cotransporters',\n",
       " 'AT5G65640': 'bHLH Transcription Factor Family',\n",
       " 'AT1G17310': 'transcription factor, ',\n",
       " 'AT5G58490': 'cinnamoyl-CoA reductase family',\n",
       " 'AT5G12120': 'EF-hand containing proteins',\n",
       " 'AT1G19490': 'bZIP Transcription Factor Family',\n",
       " 'AT3G50730': 'protein kinase ATN1 - like protein',\n",
       " 'AT1G76810': 'translation initiation factor eIF-2, ',\n",
       " 'AT2G31210': 'bHLH Transcription Factor Family',\n",
       " 'AT4G14770': 'CPP Transcription Factor Family',\n",
       " 'AT5G01380': 'Trihelix Transcription Factor Family',\n",
       " 'AT2G20840': ' secretory carrier-associated membrane protein',\n",
       " 'AT3G59730': 'receptor lectin kinase-like protein (fragment)',\n",
       " 'AT2G46500': 'ubiquitin family',\n",
       " 'AT3G06620': 'protein kinase, ',\n",
       " 'AT3G59140': 'ABC transporter-like protein',\n",
       " 'AT3G60120': 'beta-glucosidase-like protein',\n",
       " 'AT5G40420': 'oleosin',\n",
       " 'AT5G40230': ' protein',\n",
       " 'AT3G10910': 'C3H Transcription Factor Family',\n",
       " 'AT3G05930': 'germin-like protein',\n",
       " 'AT5G60830': 'bZIP Transcription Factor Family',\n",
       " 'AT2G31500': 'CDPKs',\n",
       " 'AT1G80900': 'Magnesium Transporter Gene Family',\n",
       " 'AT2G47730': 'glutathione S-transferase 6 (GST6)',\n",
       " 'AT4G05110': ' protein',\n",
       " 'AT5G03410': 'E2F-DP Transcription Factor Family',\n",
       " 'AT2G44450': ' beta-glucosidase',\n",
       " 'AT3G46970': 'starch phosphorylase H (cytosolic form) - like protein',\n",
       " 'AT3G18570': 'Lipid Metabolism Gene Families',\n",
       " 'AT2G25680': 'Inorganic Solute Cotransporters',\n",
       " 'AT4G38570': ' phosphatidylinositol synthase',\n",
       " 'AT1G64530': 'NLP Transcription Factor Family',\n",
       " 'AT1G70330': 'Organic Solute Cotransporters',\n",
       " 'AT4G24510': 'CER2',\n",
       " 'AT5G15410': 'cyclic nucleotide-gated cation channel',\n",
       " 'AT5G48820': 'Core Cell Cycle Genes',\n",
       " 'AT1G04150': ' phosphoribosylanthranilate transferase',\n",
       " 'AT1G27660': 'bHLH Transcription Factor Family',\n",
       " 'AT1G34180': 'NAC Transcription Factor Family',\n",
       " 'AT5G18220': 'beta-1,3-glucanase-like protein',\n",
       " 'AT3G21560': 'UDP-glucosyltransferase, ',\n",
       " 'AT1G13960': ' DNA-binding protein',\n",
       " 'AT1G26870': 'NAC Transcription Factor Family',\n",
       " 'AT2G43610': 'glycosyl hydrolase family 19 (chitinase)',\n",
       " 'AT3G59770': 'expressed protein',\n",
       " 'AT3G30530': 'bZIP Transcription Factor Family',\n",
       " 'AT5G52020': 'AP2-EREBP Transcription Factor Family',\n",
       " 'AT5G44240': 'ATPase, calcium-transporting',\n",
       " 'AT5G20470': 'myosin-like protein',\n",
       " 'AT2G03000': 'C3H Transcription Factor Family',\n",
       " 'AT1G76890': 'Trihelix Transcription Factor Family',\n",
       " 'AT1G08150': 'Cation/H+ Exchanger (CHX) Protein',\n",
       " 'AT1G74320': 'choline kinase -related',\n",
       " 'AT3G08770': 'lipid transfer protein 6 (ltp6) ',\n",
       " 'AT3G55170': 'L35 in small subunit',\n",
       " 'AT5G10510': 'AP2-EREBP Transcription Factor Family',\n",
       " 'AT3G09550': ' ankyrin',\n",
       " 'AT1G16530': 'Lateral Organ Boundaries Gene Family',\n",
       " 'AT5G11650': 'hydrolase, alpha/beta fold family',\n",
       " 'AT5G59090': 'subtilisin-like serine protease, contains similarity to prepro-cucumisin GI:807698 from (Cucumis melo) ',\n",
       " 'AT3G06450': 'Antiporters',\n",
       " 'AT2G37740': 'C2H2 Transcription Factor Family',\n",
       " 'AT4G39330': ' mannitol dehydrogenase',\n",
       " 'AT5G48570': 'PPI',\n",
       " 'AT5G47730': 'sec14 cytosolic factor,  (phosphoglyceride transfer protein, )',\n",
       " 'AT1G34030': 'S18 in small subunit',\n",
       " 'AT2G24500': 'C2H2 Transcription Factor Family',\n",
       " 'AT1G69540': 'M delta',\n",
       " 'AT3G61110': 'S27 in small subunit',\n",
       " 'AT2G29120': ' ligand-gated ion channel protein',\n",
       " 'AT3G12520': 'sulfate transporter, ',\n",
       " 'AT1G05880': 'ARIADNE gene family',\n",
       " 'AT5G47100': 'EF-hand containing proteins',\n",
       " 'AT4G29000': 'CPP Transcription Factor Family',\n",
       " 'AT2G34500': ' cytochrome P450',\n",
       " 'AT5G26930': 'C2C2-Gata Transcription Factor Family',\n",
       " 'AT5G50570': 'squamosa promoter-binding protein, ',\n",
       " 'AT3G26570': 'phosphate transporter, ',\n",
       " 'AT2G40750': 'WRKY Transcription Factor Superfamily',\n",
       " 'AT4G00610': 'GeBP Transcription Factor Family',\n",
       " 'AT1G53160': 'squamosa promoter-binding protein-like 4 (SPL4)',\n",
       " 'AT1G04360': 'C3H Transcription Factor Family',\n",
       " 'AT5G58050': 'aluminium tolerance associated - like protein',\n",
       " 'AT5G10030': 'TGA3-like',\n",
       " 'AT3G10180': ' kinesin-like centromere protein',\n",
       " 'AT1G30640': 'protein kinase',\n",
       " 'AT5G18580': 'EF-hand containing proteins',\n",
       " 'AT4G30950': 'omega-6 fatty acid desaturase, chloroplast (FAD6) (fadC) (delta-12 desaturase)',\n",
       " 'AT2G37560': 'Putative component of the origin recognition complex (ORC)',\n",
       " 'AT5G22410': 'Class III peroxidase',\n",
       " 'AT1G02360': 'glycosyl hydrolase family 19 (chitinase)',\n",
       " 'AT4G25800': 'ACBP60s',\n",
       " 'AT3G30290': 'cytochrome P450, ',\n",
       " 'AT1G52400': 'beta-glucosidase, ',\n",
       " 'AT3G17730': 'NAC Transcription Factor Family',\n",
       " 'AT2G46130': ' WRKY-type DNA binding protein',\n",
       " 'AT1G08900': ' sugar transport protein, ERD6',\n",
       " 'AT5G60850': 'Dof-type zinc finger domain-containing protein',\n",
       " 'AT1G04680': ' pectate lyase A11',\n",
       " 'AT1G60880': 'Type I MADS box',\n",
       " 'AT2G43790': 'MAP kinase (ATMPK6)',\n",
       " 'AT1G15530': 'receptor lectin kinase, ',\n",
       " 'AT4G20980': 'translation initiation factor eIF3 - like protein',\n",
       " 'AT3G26660': 'Lateral Organ Boundaries Gene Family',\n",
       " 'AT3G58760': ' protein',\n",
       " 'AT5G40540': 'protein kinase - like protein',\n",
       " 'AT5G51870': 'MIKC',\n",
       " 'AT2G26710': ' cytochrome P450',\n",
       " 'AT1G30650': ' DNA-binding protein',\n",
       " 'AT1G11450': 'Nodulin-like protein family',\n",
       " 'AT1G76130': 'alpha-amylase, ',\n",
       " 'AT4G30080': 'ARF Transcription Factor Family',\n",
       " 'AT4G29910': 'Putative component of the origin recognition complex (ORC)',\n",
       " 'AT3G55210': 'NAC Transcription Factor Family',\n",
       " 'AT4G26690': 'Receptor kinase-like protein family',\n",
       " 'AT1G65570': 'polygalacturonase, ',\n",
       " 'AT1G27040': 'nitrate transporter, ',\n",
       " 'AT4G12860': 'EF-hand containing proteins',\n",
       " 'AT5G65250': 'expressed protein',\n",
       " 'AT1G27190': 'receptor kinase, ',\n",
       " 'AT5G28380': 'EF-hand containing proteins',\n",
       " 'AT1G30000': 'endoplasmic reticulum alpha-mannosidase, ',\n",
       " 'AT5G05860': 'glucuronosyl transferase-like protein',\n",
       " 'AT5G65930': 'Single gene-encoded CBPs',\n",
       " 'AT1G73080': 'Receptor kinase-like protein family',\n",
       " 'AT1G34140': 'poly(A)-binding protein, ',\n",
       " 'AT3G20830': 'protein kinase ',\n",
       " 'AT4G35310': 'CDPKs',\n",
       " 'AT3G24660': ' kinase-like protein TMKL1 precursor',\n",
       " 'AT4G25220': ' protein',\n",
       " 'AT5G33320': 'phosphate/phosphoenolpyruvate translocator precursor',\n",
       " 'AT4G05530': 'not found',\n",
       " 'AT4G36990': 'HSF Transcription Factor Family',\n",
       " 'AT3G47570': 'receptor kinase-like protein',\n",
       " 'AT1G18350': 'MAP kinase kinase 5, ',\n",
       " 'AT4G28050': 'senescence-associated protein -like',\n",
       " 'AT1G49620': 'Core Cell Cycle Genes',\n",
       " 'AT5G64960': 'Core Cell Cycle Genes',\n",
       " 'AT4G11140': 'AP2-EREBP Transcription Factor Family',\n",
       " 'AT3G06110': 'Protein phosphatases dual specificity function',\n",
       " 'AT4G38300': ' protein',\n",
       " 'AT1G28460': 'Type I MADS box',\n",
       " 'AT5G57685 ': 'unknown',\n",
       " 'AT3G22930': 'EF-hand containing proteins',\n",
       " 'AT3G04410': 'NAC Transcription Factor Family',\n",
       " 'AT5G11160': 'involved in purine salvage by catalyzing the conversion of adenine and PRPP to AMP and Ppi EC 2.4.2.7',\n",
       " 'AT2G20630': 'protein phosphatase 2C, ',\n",
       " 'AT4G23500': ' protein',\n",
       " 'AT5G57520': 'C2H2 Transcription Factor Family',\n",
       " 'AT5G07600 ': 'oleosin / glycine-rich protein',\n",
       " 'AT5G35530': 'S3 in small subunit',\n",
       " 'AT1G67970': 'HSF Transcription Factor Family',\n",
       " 'AT3G08680': ' protein kinase',\n",
       " 'AT1G09530': 'bHLH Transcription Factor Family',\n",
       " 'AT4G33860': ' protein',\n",
       " 'AT4G33850': ' protein',\n",
       " 'AT3G15740': 'C3H Transcription Factor Family',\n",
       " 'AT1G64060': 'cytochrome b245 beta chain homolog RbohAp108, ',\n",
       " 'AT5G49240': ' protein',\n",
       " 'AT3G10740': ' alpha-L-arabinofuranosidase',\n",
       " 'AT1G55850': 'cellulose synthase catalytic subunit, ',\n",
       " 'AT4G10730': ' protein kinase',\n",
       " 'AT5G08190': 'CCAAT-DR1 Transcription Factor Family',\n",
       " 'AT5G49990': 'permease',\n",
       " 'AT1G71220': ' UDP-glucose:glycoprotein glucosyltransferase',\n",
       " 'AT1G31120': ' potassium transporter',\n",
       " 'AT5G16120': 'hydrolase, alpha/beta fold family',\n",
       " 'AT5G14100': 'expressed protein',\n",
       " 'AT3G59420': ' protein',\n",
       " 'AT1G23240': 'conserved  protein',\n",
       " 'AT2G01720': ' ribophorin I',\n",
       " 'AT3G45640': 'mitogen-activated protein kinase 3',\n",
       " 'AT3G14230': 'AP2-EREBP Transcription Factor Family',\n",
       " 'AT3G46510': 'arm repeat containing protein homolog',\n",
       " 'AT4G37320': 'cytochrome P450-like protein',\n",
       " 'AT5G10470': ' protein',\n",
       " 'AT2G01170': ' amino acid permease',\n",
       " 'AT4G02410': 'not found',\n",
       " 'AT2G19210': ' receptor-like protein kinase',\n",
       " 'AT5G67580': 'Arabidopsis thaliana telomere repeat binding factor 2 (TRB2) mRNA',\n",
       " 'AT2G23340': 'AP2-EREBP Transcription Factor Family',\n",
       " 'AT1G67100': 'Lateral Organ Boundaries Gene Family',\n",
       " 'AT1G78340': 'glutathione transferase, ',\n",
       " 'AT1G51740': 'SNAREs',\n",
       " 'AT5G61190': 'C2H2 Transcription Factor Family',\n",
       " 'AT5G26000': 'myrosinase precursor',\n",
       " 'AT2G04560': 'Glycosyltransferase Gene Families',\n",
       " 'AT2G45680': '3',\n",
       " 'AT5G57630': ' protein kinase',\n",
       " 'AT2G33860': 'ARF Transcription Factor Family',\n",
       " 'AT5G63610': 'Core Cell Cycle Genes',\n",
       " 'AT4G26150': 'C2C2-Gata Transcription Factor Family',\n",
       " 'AT1G80640': 'receptor protein kinase - like protein',\n",
       " 'AT5G46330': 'receptor protein kinase - like protein',\n",
       " 'AT5G20340': 'glycosyl hydrolase family 17 (beta-1,3-glucanase bg5)',\n",
       " 'AT5G03640': 'protein kinase ',\n",
       " 'AT4G05190': 'kinesin - like protein',\n",
       " 'AT2G23210': ' glucosyltransferase ',\n",
       " 'AT2G44560': ' glucanase',\n",
       " 'AT3G61720': ' protein',\n",
       " 'AT3G55550': 'probable serine/threonine-specific protein kinase',\n",
       " 'AT3G23140': 'C2H2 Transcription Factor Family',\n",
       " 'AT3G44750': 'C2H2 Transcription Factor Family',\n",
       " 'AT4G17780': 'MYB Transcription Factor Family',\n",
       " 'AT3G51960': 'bZIP Transcription Factor Family',\n",
       " 'AT3G24720': 'protein kinase, ',\n",
       " 'AT2G42010': 'phospholipase D',\n",
       " 'AT3G26330': 'cytochrome P450, ',\n",
       " 'AT4G30360': 'cyclic nucleotide and calmodulin-regulated ion channel-like protein',\n",
       " 'AT5G59130': 'subtilisin-like serine protease, contains similarity to prepro-cucumisin GI:807698 from (Cucumis melo) ',\n",
       " 'AT2G46495': 'C3H Transcription Factor Family',\n",
       " 'AT4G00100': 'S13 in small subunit',\n",
       " 'AT5G43650': 'bHLH Transcription Factor Family',\n",
       " 'AT2G23780': 'C3H Transcription Factor Family',\n",
       " 'AT4G00390': 'GeBP Transcription Factor Family',\n",
       " 'AT5G22840': 'EF-hand containing proteins',\n",
       " 'AT2G05990': 'enoyl-(acyl-carrier protein) reductase (NADH) (enr-A), ',\n",
       " 'AT1G10010': ' amino acid permease',\n",
       " 'AT3G43120': 'SAURs',\n",
       " 'AT1G02660': 'lipase (class 3) family',\n",
       " 'AT5G64070 ': 'phosphatidylinositol 4-kinase (PI4K)',\n",
       " 'AT1G68840': 'RAV Transcription Factor Family',\n",
       " 'AT4G36480': 'serine C-palmitoyltransferase family',\n",
       " 'AT2G34980': ' phosphatidylinositol-glycan synthase',\n",
       " 'AT1G14550': 'Class III peroxidase',\n",
       " 'AT2G40900': ' integral membrane protein nodulin',\n",
       " 'AT1G05640': 'Miscellaneous Membrane Protein Families',\n",
       " 'AT5G13080': 'WRKY-like protein',\n",
       " 'AT3G32970': 'EF-hand containing proteins',\n",
       " 'AT5G41460': 'strong similarity to  (pir||T13026)',\n",
       " 'AT3G49050': 'calmodulin-binding heat-shock - like protein',\n",
       " 'AT3G07300': ' translation initiation factor EIF-2B beta subunit',\n",
       " 'AT1G54830': 'CCAAT-HAP5 Transcription Factor Family',\n",
       " 'AT5G59520': ' zinc transporter ZIP2 - like',\n",
       " 'AT3G47990': 'C3H Transcription Factor Family',\n",
       " 'AT1G34510': 'Class III peroxidase',\n",
       " 'AT5G21120': 'EIL Transcription Factor Family',\n",
       " 'AT5G20050': 'receptor-like protein kinase - like protein',\n",
       " 'AT1G01030': 'ABI3VP1 Transcription Factor Family',\n",
       " 'AT1G73950': 'C3H Transcription Factor Family',\n",
       " 'AT1G80590': 'WRKY Transcription Factor Superfamily',\n",
       " 'AT4G25560': 'MYB Transcription Factor Family',\n",
       " 'AT4G26640': ' protein',\n",
       " 'AT2G46280': 'eukaryotic translation initiation factor 3 delta subunit',\n",
       " 'AT5G35160': ' protein',\n",
       " 'AT1G65670': 'cytochrome P450, ',\n",
       " 'AT3G03470': ' cytochrome P450',\n",
       " 'AT4G03290': 'EF-hand containing proteins',\n",
       " 'AT3G45430': 'receptor like protein kinase',\n",
       " 'AT3G21090': 'ABC transporter, ',\n",
       " 'AT3G11200': 'Alfin-like Transcription Factor Family',\n",
       " 'AT1G25450': 'Miscellaneous Membrane Protein Families',\n",
       " 'AT3G02000': ' glutaredoxin',\n",
       " 'AT1G48000': 'MYB Transcription Factor Family',\n",
       " 'AT1G14100': 'Glycosyltransferase Gene Families',\n",
       " 'AT2G36270': 'bZIP Transcription Factor Family',\n",
       " 'AT5G07660': 'a chromosomal ATPase',\n",
       " 'AT5G54610': 'ankyrin-repeat-containing protein-like',\n",
       " 'AT5G57500': ' protein',\n",
       " 'AT1G02220': 'NAC Transcription Factor Family',\n",
       " 'AT2G27100': 'C2H2 Transcription Factor Family',\n",
       " 'AT1G76680': '12-oxophytodienoate reductase (OPR1)',\n",
       " 'AT5G64940': 'ABC transporter-like',\n",
       " 'AT1G77790': ' endo-1,3-beta-glucanase',\n",
       " 'AT3G19910': 'C3H Transcription Factor Family',\n",
       " 'AT2G36590': ' proline transporter',\n",
       " 'AT3G57800': 'bHLH Transcription Factor Family',\n",
       " 'AT5G07390': 'respiratory burst oxidase protein A',\n",
       " 'AT1G62640': '3-ketoacyl-acyl carrier protein synthase III (KAS III)',\n",
       " 'AT4G37990': ' mannitol dehydrogenase',\n",
       " 'AT2G23760': 'Homeobox Transcription Factor Family',\n",
       " 'AT5G67090': 'subtilisin-like serine protease, contains similarity to subtilisin-like protease ag12 GI:757522 from (Alnus glutinosa) ',\n",
       " 'AT4G22710': 'cytochrome P450 - like protein',\n",
       " 'AT5G17420': 'cellulose synthase catalytic subunit (IRX3)',\n",
       " 'AT1G17810': 'tonoplast intrinsic protein, ',\n",
       " 'AT1G22610': '\\'\" phosphoribosylanthranilate transferase, 5\\'\\' partial\"\\'',\n",
       " 'AT3G14720': ' MAP kinase',\n",
       " 'AT5G62080': 'protease inhibitor/seed storage/lipid transfer protein (LTP) family ',\n",
       " 'AT3G11410': 'protein phosphatase 2C, ',\n",
       " 'AT2G25440': ' disease resistance protein',\n",
       " 'AT1G66770': 'Miscellaneous Membrane Protein Families',\n",
       " 'AT4G33240': 'expressed protein',\n",
       " 'AT2G38950': 'JUMONJI Transcription Factor Family',\n",
       " 'AT4G33280': 'REM Transcription Factor Family',\n",
       " 'AT1G14730': 'cytochrome B561, ',\n",
       " 'AT1G62610': 'short-chain dehydrogenase/reductase family protein',\n",
       " 'AT5G18450': 'AP2-EREBP Transcription Factor Family',\n",
       " 'AT2G39480': ' ABC transporter',\n",
       " 'AT4G15350': 'cytochrome P450 like protein',\n",
       " 'AT1G11090': 'hydrolase, alpha/beta fold family',\n",
       " 'AT2G04540': '3-oxoacyl carrier protein synthase',\n",
       " 'AT1G60490 ': 'phosphatidylinositol 3-kinase (PI3K)',\n",
       " 'AT2G20470': 'protein kinase',\n",
       " 'AT5G04510': '3-phosphoinositide-dependent protein kinase',\n",
       " 'AT1G69270': 'receptor protein kinase, ',\n",
       " 'AT5G28470': 'peptide transporter - like protein',\n",
       " 'AT5G64410': 'Isp4-like protein',\n",
       " 'AT4G08780': 'Class III peroxidase',\n",
       " 'AT5G08410': 'lipoic acid synthase -related',\n",
       " 'AT1G05580': 'Antiporters',\n",
       " 'AT4G16750': 'AP2-EREBP Transcription Factor Family',\n",
       " 'AT4G01120': 'bZIP Transcription Factor Family',\n",
       " 'ATA27': 'Glycoside Hydrolase Gene Families',\n",
       " 'AT3G44920': 'Cation/H+ Exchanger (CHX) Protein',\n",
       " 'AT3G14310': ' pectin methylesterase',\n",
       " 'AT5G13550': 'sulfate transporter',\n",
       " 'AT1G61850': 'patatin family',\n",
       " 'AT1G59530': 'bZIP Transcription Factor Family',\n",
       " 'AT4G38400': ' pollen allergen',\n",
       " 'AT4G09800': 'S18 in small subunit',\n",
       " 'AT2G02770': 'expressed protein',\n",
       " 'AT5G64110': 'Class III peroxidase',\n",
       " 'AT5G57220': 'cytochrome P450',\n",
       " 'AT3G20090': 'cytochrome P450, ',\n",
       " 'AT3G45860': 'protein kinase - like',\n",
       " 'AT3G55190': 'esterase/lipase/thioesterase family',\n",
       " 'AT1G18040': 'Core Cell Cycle Genes',\n",
       " 'AT1G21250': 'Receptor kinase-like protein family',\n",
       " 'AT5G01540': 'receptor like protein kinase',\n",
       " 'AT3G22760': 'CPP Transcription Factor Family',\n",
       " 'AT3G02340': 'C3H Transcription Factor Family',\n",
       " 'AT3G05890': 'hydrophobic protein',\n",
       " 'AT3G28920': 'zinc finger-homeobox gene family',\n",
       " 'AT1G35670': 'CDPKs',\n",
       " 'AT3G01620': 'Glycosyltransferase Gene Families',\n",
       " 'AT4G12110': ' C-4 sterol methyl oxidase',\n",
       " 'AT3G44560': 'acyl CoA reductase -related protein',\n",
       " 'AT1G72460': ' receptor-like protein kinase',\n",
       " 'AT1G15570': 'Core Cell Cycle Genes',\n",
       " 'AT1G54280': 'Primary Pumps (ATPases) Gene Families',\n",
       " 'AT2G46510': 'bHLH Transcription Factor Family',\n",
       " 'AT5G38640': ' protein',\n",
       " 'AT5G38480': '14-3-3s',\n",
       " 'AT3G20640': 'bHLH Transcription Factor Family',\n",
       " 'AT5G06490': 'C3H Transcription Factor Family',\n",
       " 'AT5G14860': 'glucosyltransferase -like protein',\n",
       " 'AT1G77420': 'hydrolase, alpha/beta fold family',\n",
       " 'AT3G09680': 'S23 in small subunit',\n",
       " 'AT3G63010': ' protein',\n",
       " 'AT1G48990': 'Lipid Metabolism Gene Families',\n",
       " 'AT3G28200': 'Class III peroxidase',\n",
       " 'AT4G00490': ' beta-amylase',\n",
       " 'AT2G20030': 'C3H Transcription Factor Family',\n",
       " 'AT1G57980': 'Organic Solute Cotransporters',\n",
       " 'AT2G33770': ' ubiquitin-conjugating enzyme E2',\n",
       " 'AT1G48100': 'polygalacturonase, ',\n",
       " 'AT2G24840': ' MADS-box protein',\n",
       " 'AT3G17360': 'kinesin-like protein',\n",
       " 'AT2G32960': 'Tyrosine-specific protein phosphatases dual specificity function - ',\n",
       " 'AT2G38995': 'Acyl Lipid Metabolism Family',\n",
       " 'AT2G18700': ' trehalose-6-phosphate synthase',\n",
       " 'AT1G35160': '14-3-3s',\n",
       " 'AT3G18990': 'ABI3VP1 Transcription Factor Family',\n",
       " 'AT4G15130': 'cholinephosphate cytidylyltransferase (phosphorylcholine transferase/CTP:phosphocholine cytidylyltransferase), ',\n",
       " 'AT3G53340': 'CCAAT-HAP3 Transcription Factor Family',\n",
       " 'AT5G15640': ' mitochondrial carrier protein',\n",
       " 'AT1G50640': 'AP2-EREBP Transcription Factor Family',\n",
       " 'AT1G03840': 'zinc finger (C2H2 type) family protein',\n",
       " 'AT1G79590': 'SNAREs',\n",
       " 'AT1G49660': 'Carbohydrate Esterase Gene Families',\n",
       " 'AT5G26610': 'C2H2 Transcription Factor Family',\n",
       " 'AT3G48780': 'serine C-palmitoyltransferase, ',\n",
       " 'AT3G19150': 'Core Cell Cycle Genes',\n",
       " 'AT2G27220': 'Homeobox Transcription Factor Family',\n",
       " 'AT2G37630': 'MYB Transcription Factor Family',\n",
       " 'AT4G25470': 'AP2-EREBP Transcription Factor Family',\n",
       " 'AT5G02490': 'HSP70s',\n",
       " 'AT2G02130': ' plant defensin gene',\n",
       " 'AT1G50360': 'myosin, ',\n",
       " 'AT1G66560': 'WRKY Transcription Factor Superfamily',\n",
       " 'AT4G28490': 'receptor-like protein kinase 5 precursor (RLK5)',\n",
       " 'AT4G02560': 'Homeobox Transcription Factor Family',\n",
       " 'AT5G03560': 'Organic Solute Cotransporters',\n",
       " 'AT2G37450': 'nodulin-like protein',\n",
       " 'AT5G01220': ' protein',\n",
       " 'AT2G28510': 'Dof-type zinc finger domain-containing protein',\n",
       " 'AT2G40090': ' ABC1 protein',\n",
       " 'AT4G35780': ' protein',\n",
       " 'AT1G79410': 'Organic Solute Cotransporters',\n",
       " 'AT5G35750': 'histidine kinase-like protein',\n",
       " 'AT2G04890': 'GRAS Transcription Factor Family',\n",
       " 'AT5G26120': 'arabinosidase - like protein',\n",
       " 'AT1G29910': 'photosystem II type I chlorophyll a /b binding protein, ',\n",
       " 'AT3G18040': ' MAP kinase',\n",
       " 'AT4G37340': 'cytochrome P450-like protein',\n",
       " 'AT5G12080': 'Mechanosensitive channel',\n",
       " 'AT4G04404': 'C2H2 Transcription Factor Family',\n",
       " 'AT1G12980': 'AP2-EREBP Transcription Factor Family',\n",
       " 'AT2G11810 ': '1,2-diacylglycerol 3-beta-galactosyltransferase (UDP-galactose:diacylglycerol galactosyltransferase) (MGDG synthase) (MGD3), ',\n",
       " 'AT5G10160': '(3R)-hydroxymyristoyl-[acyl carrier protein] dehydratase -like protein',\n",
       " 'AT3G02290': 'C3H Transcription Factor Family',\n",
       " 'AT4G16590 (FRAGMENT)': 'cellulose synthase like protein',\n",
       " 'AT5G63380': '4-coumarate:CoA ligase (4-coumaroyl-CoA synthase) family',\n",
       " 'AT3G16870': 'C2C2-Gata Transcription Factor Family',\n",
       " 'AT2G37010': ' ABC transporter',\n",
       " 'AT5G11170': 'DEAD BOX RNA helicase RH15 - like protein',\n",
       " 'AT2G30110': 'EF-hand containing proteins',\n",
       " 'AT4G30560': 'cyclic nucleotide and calmodulin-regulated ion channel-like protein',\n",
       " 'AT5G61470': 'C2H2 Transcription Factor Family',\n",
       " 'AT3G26140': 'cellulase, ',\n",
       " 'AT1G49250': 'Putative DNA ligase I (LIG1). LIG1 seals the nick structure between adjacent Okazaki fragments to generate the intact nascent strand. ',\n",
       " 'AT5G05160': 'receptor-like protein kinase',\n",
       " 'AT2G28810': 'Dof-type zinc finger domain-containing protein',\n",
       " 'AT2G31270': 'Putative DNA replication licensing factor',\n",
       " 'AT1G51880': 'light repressible receptor protein kinase, ',\n",
       " 'AT1G74550': ' cytochrome P450',\n",
       " 'AT1G80580': 'AP2-EREBP Transcription Factor Family',\n",
       " 'AT2G44520': ' heme A:farnesyltransferase',\n",
       " 'AT1G49760': 'poly(A)-binding protein, ',\n",
       " 'AT1G30370': 'lipase (class 3) family',\n",
       " 'AT4G00335': 'C3H Transcription Factor Family',\n",
       " 'AT5G23090': 'CCAAT-DR1 Transcription Factor Family',\n",
       " 'AT2G41540': 'glycerol-3-phosphate dehydrogenase',\n",
       " 'AT2G36790': ' glucosyl transferase ',\n",
       " 'AT1G71070': 'Glycosyltransferase Gene Families',\n",
       " 'AT3G06740': 'C2C2-Gata Transcription Factor Family',\n",
       " 'AT4G14815': 'protease inhibitor/seed storage/lipid transfer protein (LTP) family ',\n",
       " 'AT1G16260': ' wall-associated kinase',\n",
       " 'AT5G03730': 'SERINE/THREONINE-PROTEIN KINASE CTR1',\n",
       " 'AT4G21480': 'glucose transporter',\n",
       " 'AT1G58360': 'amino acid permease I',\n",
       " 'AT1G14510': 'Alfin-like Transcription Factor Family',\n",
       " 'AT5G17050': 'UDP glucose:flavonoid 3-o-glucosyltransferase -like protein',\n",
       " 'AT1G43100': 'polygalacturonase, ',\n",
       " 'AT5G23900': 'L13 in small subunit',\n",
       " 'AT1G71330': ' ABC transporter',\n",
       " 'AT2G41210': 'phosphatidylinositol-4-phosphate 5-kinase -related',\n",
       " 'AT2G31180': 'MYB Transcription Factor Family',\n",
       " 'AT2G27090': 'expressed protein',\n",
       " 'AT4G35770': 'senescence-associated protein',\n",
       " 'AT5G62530': 'delta-1-pyrroline-5-carboxylate dehydrogenase (P5CDH)',\n",
       " 'AT3G13810': 'zinc finger (C2H2 type) family protein',\n",
       " 'AT2G17000': 'Mechanosensitive channel',\n",
       " 'AT4G14449': 'SNAREs',\n",
       " 'AT3G45940': ' protein',\n",
       " 'AT3G02210': 'COBRA Gene Family',\n",
       " 'AT4G09740': 'cellulase-like protein',\n",
       " 'AT2G28860': ' cytochrome P450',\n",
       " 'AT1G21120': ' O-methyltransferase 1',\n",
       " 'AT5G47370': 'Homeobox Transcription Factor Family',\n",
       " 'AT1G21160': 'translation initiation factor eIF-2, ',\n",
       " 'AT5G22750': 'Rad5/TAIR',\n",
       " 'AT3G21220': 'MAP kinase kinase 5',\n",
       " 'AT5G49010': 'Putative component of the heterotetrameric GINS complex at the DNA replication fork',\n",
       " 'AT4G36450': 'MAP kinase like protein',\n",
       " 'AT1G13110': ' cytochrome P450 monooxygenase',\n",
       " 'AT1G34390': 'ARF Transcription Factor Family',\n",
       " 'AT5G10440': 'Core Cell Cycle Genes',\n",
       " 'AT3G61890': 'Homeobox Transcription Factor Family',\n",
       " 'AT3G30460': 'C3H Transcription Factor Family',\n",
       " 'AT5G65790': 'MYB Transcription Factor Family',\n",
       " 'AT2G38470': 'WRKY Transcription Factor Superfamily',\n",
       " 'AT1G69930': 'glutathione transferase, ',\n",
       " 'AT2G40310': ' polygalacturonase',\n",
       " 'AT3G01380': ' phosphatidylinositolglycan class N short form',\n",
       " 'AT2G16990': 'tetracycline transporter-like protein',\n",
       " 'AT1G19190': 'Carbohydrate Esterase Gene Families',\n",
       " 'AT3G45140': 'lipoxygenase (LOX2)',\n",
       " 'AT1G02970': 'Core Cell Cycle Genes',\n",
       " 'AT3G04910': ' mitogen activated protein kinase kinase',\n",
       " 'AT5G43290': ' protein',\n",
       " 'AT2G43580': ' endochitinase',\n",
       " 'AT4G22070': ' protein',\n",
       " 'AT2G37360': ' ABC transporter',\n",
       " 'AT2G19400': 'protein kinase',\n",
       " 'AT3G61470': 'Lhca2 protein',\n",
       " 'AT5G19360': 'CDPKs',\n",
       " 'AT4G04450': ' DNA-binding protein',\n",
       " 'AT1G15520': 'ABC transporter family protein ',\n",
       " 'AT3G20580': 'COBRA Gene Family',\n",
       " 'AT1G01420': 'flavonol 3-o-glucosyltransferase, ',\n",
       " 'AT3G25710': 'bHLH Transcription Factor Family',\n",
       " 'AT2G36870': ' xyloglucan endo-transglycosylase',\n",
       " 'AT5G46530': ' protein',\n",
       " 'AT3G61440': 'cysteine synthase AtcysC1',\n",
       " 'AT3G55310': 'short-chain dehydrogenase/reductase family protein',\n",
       " 'AT4G12020': ' disease resistance protein',\n",
       " 'AT4G11230': 'respiratory burst oxidase homolog F - like protein',\n",
       " 'AT1G02520': 'P-glycoprotein, ',\n",
       " 'AT4G16155': 'dihydrolipoamide dehydrogenase 2, plastidic (lipoamide dehydrogenase 2) (ptlpd2)',\n",
       " 'AT5G52010': 'C2H2 Transcription Factor Family',\n",
       " 'AT5G16230 ': 'acyl-[acyl-carrier-protein] desaturase (stearoyl-ACP desaturase), ',\n",
       " 'AT1G30900': 'Miscellaneous Membrane Protein Families',\n",
       " 'AT2G20780': ' sugar transporter',\n",
       " 'AT1G58100': '3',\n",
       " 'AT3G19960': 'myosin',\n",
       " 'AT2G41490': ' cytokinin oxidase',\n",
       " 'AT1G14110': 'Glycosyltransferase Gene Families',\n",
       " 'AT1G51440': 'lipase (class 3) family',\n",
       " 'AT1G07000': ' Exo70 subunit of the exocyst complex',\n",
       " 'AT1G76420': 'NAC Transcription Factor Family',\n",
       " 'AT1G03520': ' glycosylation enzyme',\n",
       " 'AT5G17200': 'polygalacturonase-like protein',\n",
       " 'AT5G67190': 'AP2-EREBP Transcription Factor Family',\n",
       " 'AT3G47960': ' peptide transporter',\n",
       " 'AT5G08730': 'C3H Transcription Factor Family',\n",
       " 'AT5G37310': 'multispanning membrane protein - like',\n",
       " 'AT1G45249': 'bZIP Transcription Factor Family',\n",
       " 'AT4G37850': 'bHLH Transcription Factor Family',\n",
       " 'AT1G19230': 'respiratory burst oxidase protein, ',\n",
       " 'AT1G05670': ' indole-3-acetate beta-glucosyltransferase ',\n",
       " 'AT3G07120': 'C3H Transcription Factor Family',\n",
       " 'AT1G77290': 'tetrachloro-p-hydroquinone reductive dehalogenase-related',\n",
       " 'AT1G65040': 'C3H Transcription Factor Family',\n",
       " 'AT2G18730': 'diacylglycerol kinase -related',\n",
       " 'AT5G64570': 'beta-xylosidase',\n",
       " 'AT5G07530 ': 'glycine-rich protein GRP17',\n",
       " 'AT2G41860': 'CDPKs',\n",
       " 'AT5G61740': 'ABC family transporter - like protein',\n",
       " 'AT1G54530': 'EF-hand containing proteins',\n",
       " 'AT1G72770': 'protein phosphatase 2C P2C-HA',\n",
       " 'AT1G17480 ': 'IQD Protein Family',\n",
       " 'AT5G58850': 'MYB Transcription Factor Family',\n",
       " 'AT1G30270': 'serine/threonine kinase, ',\n",
       " 'AT2G18260': ' syntaxin',\n",
       " 'AT3G14600': 'L18a in small subunit',\n",
       " 'AT4G04760': ' sugar transporter',\n",
       " 'AT1G12990': ' beta-1,4-N-acetylglucosaminyltransferase',\n",
       " 'AT1G34370': 'C2H2 Transcription Factor Family',\n",
       " 'AT2G14690': '1,4-beta-xylan endohydrolase',\n",
       " 'AT4G21410': 'serine/threonine kinase - like protein',\n",
       " 'AT2G43480': 'Class III peroxidase',\n",
       " 'AT3G46840': 'subtilisin-like serine protease, contains similarity to prepro-cucumisin GI:807698 from (Cucumis melo); ',\n",
       " 'AT3G12750': ' zinc transporter',\n",
       " 'AT3G56020': 'L41 in small subunit',\n",
       " 'AT1G54350': 'ABC transporter family protein',\n",
       " 'AT5G56110': 'MYB Transcription Factor Family',\n",
       " 'AT1G62990': 'Homeobox Transcription Factor Family',\n",
       " 'AT1G32900': 'starch synthase, ',\n",
       " 'AT5G53190': 'MtN3 protein-like',\n",
       " 'AT4G01370': 'MAP kinase 4 (MPK4)',\n",
       " 'AT5G05530': 'C3H Transcription Factor Family',\n",
       " 'AT1G76110': 'ARID Transcription Factor Family',\n",
       " 'AT1G67710': 'F12A21.15',\n",
       " 'AT1G48230': 'Organic Solute Cotransporters',\n",
       " 'AT5G57050': 'protein phosphatase 2C ABI2',\n",
       " ...}"
      ]
     },
     "execution_count": 116,
     "metadata": {},
     "output_type": "execute_result"
    }
   ],
   "source": [
    "gene_function = {}\n",
    "for index, row in df[tag].iterrows():\n",
    "    try: \n",
    "        gene = row['Genomic_Locus_Tag'].upper()\n",
    "    except AttributeError:\n",
    "        print(row['Genomic_Locus_Tag'])\n",
    "    function = row['Protein_Function'] if str(row['Protein_Function']) != 'nan' else row['Gene_Family']\n",
    "    forbidden = ['\\uffa0', 'basic', 'hypothetical protein', 'unknown protein', 'putative', 'hypothetical  protein']\n",
    "    for bad in forbidden:\n",
    "        function = function.replace(bad, '')\n",
    "    if not function.strip() or str(function) == 'nan':\n",
    "        function = row['Gene_Family'].replace('basic', '')\n",
    "    gene_function[gene] = function\n",
    "#     break\n",
    "gene_function"
   ]
  },
  {
   "cell_type": "markdown",
   "metadata": {},
   "source": [
    "** ----------------- TODO: Come back and make the name pretty ---------------------**"
   ]
  },
  {
   "cell_type": "markdown",
   "metadata": {},
   "source": [
    "### Decorate Annotation with functions"
   ]
  },
  {
   "cell_type": "code",
   "execution_count": 117,
   "metadata": {
    "collapsed": false
   },
   "outputs": [],
   "source": [
    "with open(filtered_path, 'r') as genes:\n",
    "    with open(r\"D:\\josiah\\Documents\\Research\\Arabidopsis\\TAIR10_annotated_genes.gff\", 'w') as final_annotation:\n",
    "        for line in genes.readlines():\n",
    "            parts = line.split('\\t')\n",
    "            locus = parts[8].split(';')[0][3:]\n",
    "            function = gene_function[locus]\n",
    "            if locus in gene_function:\n",
    "                final_annotation.write('\\t'.join(parts[:8] + ['Name=' + function]) +'\\n')"
   ]
  },
  {
   "cell_type": "code",
   "execution_count": 113,
   "metadata": {
    "collapsed": false
   },
   "outputs": [
    {
     "data": {
      "text/html": [
       "<div>\n",
       "<style scoped>\n",
       "    .dataframe tbody tr th:only-of-type {\n",
       "        vertical-align: middle;\n",
       "    }\n",
       "\n",
       "    .dataframe tbody tr th {\n",
       "        vertical-align: top;\n",
       "    }\n",
       "\n",
       "    .dataframe thead th {\n",
       "        text-align: right;\n",
       "    }\n",
       "</style>\n",
       "<table border=\"1\" class=\"dataframe\">\n",
       "  <thead>\n",
       "    <tr style=\"text-align: right;\">\n",
       "      <th></th>\n",
       "      <th>Gene_Family</th>\n",
       "      <th>Gene_Name</th>\n",
       "      <th>Genomic_Locus(BAC)</th>\n",
       "      <th>Genomic_Locus_Tag</th>\n",
       "      <th>Protein_Function</th>\n",
       "    </tr>\n",
       "  </thead>\n",
       "  <tbody>\n",
       "    <tr>\n",
       "      <th>4611</th>\n",
       "      <td>Glycosyltransferase Gene Families</td>\n",
       "      <td>NaN</td>\n",
       "      <td>NaN</td>\n",
       "      <td>At1g01570</td>\n",
       "      <td>hypothetical protein</td>\n",
       "    </tr>\n",
       "  </tbody>\n",
       "</table>\n",
       "</div>"
      ],
      "text/plain": [
       "                            Gene_Family Gene_Name Genomic_Locus(BAC)  \\\n",
       "4611  Glycosyltransferase Gene Families       NaN                NaN   \n",
       "\n",
       "     Genomic_Locus_Tag       Protein_Function  \n",
       "4611         At1g01570  hypothetical protein   "
      ]
     },
     "execution_count": 113,
     "metadata": {},
     "output_type": "execute_result"
    }
   ],
   "source": [
    "df[df['Genomic_Locus_Tag'] =='At1g01570']"
   ]
  },
  {
   "cell_type": "code",
   "execution_count": 118,
   "metadata": {
    "collapsed": false
   },
   "outputs": [
    {
     "data": {
      "text/plain": [
       "False"
      ]
     },
     "execution_count": 118,
     "metadata": {},
     "output_type": "execute_result"
    }
   ],
   "source": [
    "'AT1G01020' in upper_case_loci"
   ]
  },
  {
   "cell_type": "markdown",
   "metadata": {},
   "source": [
    "# Repeat the Process for ATH_GO_SLIM"
   ]
  },
  {
   "cell_type": "code",
   "execution_count": 2,
   "metadata": {
    "collapsed": false
   },
   "outputs": [
    {
     "data": {
      "text/html": [
       "<div>\n",
       "<style scoped>\n",
       "    .dataframe tbody tr th:only-of-type {\n",
       "        vertical-align: middle;\n",
       "    }\n",
       "\n",
       "    .dataframe tbody tr th {\n",
       "        vertical-align: top;\n",
       "    }\n",
       "\n",
       "    .dataframe thead th {\n",
       "        text-align: right;\n",
       "    }\n",
       "</style>\n",
       "<table border=\"1\" class=\"dataframe\">\n",
       "  <thead>\n",
       "    <tr style=\"text-align: right;\">\n",
       "      <th></th>\n",
       "      <th>locus name</th>\n",
       "      <th>GO term</th>\n",
       "      <th>GOslim term</th>\n",
       "      <th>Date annotated</th>\n",
       "    </tr>\n",
       "  </thead>\n",
       "  <tbody>\n",
       "    <tr>\n",
       "      <th>0</th>\n",
       "      <td>AT1G01010</td>\n",
       "      <td>regulation of transcription, DNA-templated</td>\n",
       "      <td>other cellular processes</td>\n",
       "      <td>2018-04-02</td>\n",
       "    </tr>\n",
       "    <tr>\n",
       "      <th>1</th>\n",
       "      <td>AT1G01010</td>\n",
       "      <td>regulation of transcription, DNA-templated</td>\n",
       "      <td>transcription,DNA-dependent</td>\n",
       "      <td>2018-04-02</td>\n",
       "    </tr>\n",
       "    <tr>\n",
       "      <th>2</th>\n",
       "      <td>AT1G01010</td>\n",
       "      <td>DNA-binding transcription factor activity</td>\n",
       "      <td>transcription factor activity</td>\n",
       "      <td>2003-06-06</td>\n",
       "    </tr>\n",
       "    <tr>\n",
       "      <th>3</th>\n",
       "      <td>AT1G01010</td>\n",
       "      <td>regulation of transcription, DNA-templated</td>\n",
       "      <td>other cellular processes</td>\n",
       "      <td>2018-09-12</td>\n",
       "    </tr>\n",
       "    <tr>\n",
       "      <th>4</th>\n",
       "      <td>AT1G01010</td>\n",
       "      <td>integral component of membrane</td>\n",
       "      <td>other membranes</td>\n",
       "      <td>2018-09-04</td>\n",
       "    </tr>\n",
       "  </tbody>\n",
       "</table>\n",
       "</div>"
      ],
      "text/plain": [
       "  locus name                                     GO term  \\\n",
       "0  AT1G01010  regulation of transcription, DNA-templated   \n",
       "1  AT1G01010  regulation of transcription, DNA-templated   \n",
       "2  AT1G01010   DNA-binding transcription factor activity   \n",
       "3  AT1G01010  regulation of transcription, DNA-templated   \n",
       "4  AT1G01010              integral component of membrane   \n",
       "\n",
       "                     GOslim term Date annotated  \n",
       "0       other cellular processes     2018-04-02  \n",
       "1    transcription,DNA-dependent     2018-04-02  \n",
       "2  transcription factor activity     2003-06-06  \n",
       "3       other cellular processes     2018-09-12  \n",
       "4                other membranes     2018-09-04  "
      ]
     },
     "execution_count": 2,
     "metadata": {},
     "output_type": "execute_result"
    }
   ],
   "source": [
    "go = read_csv(r\"D:\\josiah\\Documents\\Research\\Arabidopsis\\ATH_GO_GOSLIM.txt\",sep='\\t', error_bad_lines=False,\n",
    "             usecols=['locus name', 'GO term','GOslim term', 'Date annotated'])\n",
    "go.head()"
   ]
  },
  {
   "cell_type": "code",
   "execution_count": 3,
   "metadata": {
    "collapsed": false
   },
   "outputs": [
    {
     "data": {
      "text/plain": [
       "(349103, 349103)"
      ]
     },
     "execution_count": 3,
     "metadata": {},
     "output_type": "execute_result"
    }
   ],
   "source": [
    "sum(go['GO term'].notnull() & go['locus name'].notnull()) ,len(go)"
   ]
  },
  {
   "cell_type": "markdown",
   "metadata": {},
   "source": [
    "Terrific!  No missing data"
   ]
  },
  {
   "cell_type": "code",
   "execution_count": 4,
   "metadata": {
    "collapsed": false
   },
   "outputs": [
    {
     "data": {
      "text/plain": [
       "30828"
      ]
     },
     "execution_count": 4,
     "metadata": {},
     "output_type": "execute_result"
    }
   ],
   "source": [
    "go_upper = {cell.upper() for cell in go['locus name']}\n",
    "len(go_upper)"
   ]
  },
  {
   "cell_type": "markdown",
   "metadata": {},
   "source": [
    "30,828 is slightly more genes than TAIR10 annotation...  because there are non-coding regions..."
   ]
  },
  {
   "cell_type": "code",
   "execution_count": 5,
   "metadata": {
    "collapsed": false
   },
   "outputs": [
    {
     "data": {
      "text/plain": [
       "25302"
      ]
     },
     "execution_count": 5,
     "metadata": {},
     "output_type": "execute_result"
    }
   ],
   "source": [
    "go_function = {}\n",
    "for index, row in go.iterrows():\n",
    "    gene = row['locus name']\n",
    "    function = row['GO term']\n",
    "    forbidden = ['biological_process', 'cellular_component', 'molecular_function',  'extracellular region', 'nucleus',]\n",
    "    #            'mitochondrion',  'cytoplasm', 'cytosol', 'chloroplast', 'membrane', 'plasma membrane']\n",
    "\n",
    "    if function not in forbidden:\n",
    "        if gene not in go_function or len(go_function[gene]) < len(function):  # use the longest\n",
    "            go_function[gene] = function\n",
    "len(go_function)"
   ]
  },
  {
   "cell_type": "code",
   "execution_count": 7,
   "metadata": {
    "collapsed": false
   },
   "outputs": [
    {
     "data": {
      "text/plain": [
       "['integral component of membrane',\n",
       " 'copper ion transport',\n",
       " 'mitochondrion',\n",
       " 'aspartate family amino acid biosynthetic process',\n",
       " 'singlet oxygen-mediated programmed cell death',\n",
       " 'protein serine/threonine phosphatase activity',\n",
       " 'tRNA (guanine-N2-)-methyltransferase activity',\n",
       " 'regulation of abscisic acid-activated signaling pathway',\n",
       " 'phosphatidylinositol-3,4,5-trisphosphate 5-phosphatase activity',\n",
       " 'triplet codon-amino acid adaptor activity',\n",
       " 'integral component of membrane',\n",
       " 'chloroplast',\n",
       " 'response to aluminum ion',\n",
       " 'mitochondrion',\n",
       " 'mitochondrion',\n",
       " 'triplet codon-amino acid adaptor activity',\n",
       " 'cytoplasm',\n",
       " 'sn-1-glycerol-3-phosphate C16:0-DCA-CoA acyl transferase activity',\n",
       " 'endoplasmic reticulum-Golgi intermediate compartment membrane',\n",
       " 'defense response to bacterium, incompatible interaction',\n",
       " 'triplet codon-amino acid adaptor activity',\n",
       " 'pyruvate dehydrogenase (acetyl-transferring) activity',\n",
       " 'regulation of transcription, DNA-templated',\n",
       " 'mitochondrion',\n",
       " 'triplet codon-amino acid adaptor activity',\n",
       " 'transcription regulatory region DNA binding',\n",
       " 'mitochondrion',\n",
       " 'carbonate dehydratase activity',\n",
       " 'fructose-2,6-bisphosphate 2-phosphatase activity',\n",
       " 'defense response',\n",
       " 'adenine phosphoribosyltransferase activity',\n",
       " 'detoxification of cadmium ion',\n",
       " 'proteolysis involved in cellular protein catabolic process',\n",
       " 'integral component of membrane',\n",
       " 'integral component of membrane',\n",
       " 'protein binding',\n",
       " 'response to gibberellin',\n",
       " 'vacuole',\n",
       " 'response to light stimulus',\n",
       " 'clathrin-dependent endocytosis',\n",
       " 'zinc ion binding',\n",
       " 'ubiquitin-dependent protein catabolic process',\n",
       " 'embryo development ending in seed dormancy',\n",
       " 'embryo development ending in seed dormancy',\n",
       " 'oxidoreductase activity, acting on paired donors, with incorporation or reduction of molecular oxygen, NAD(P)H as one donor, and incorporation of one atom of oxygen',\n",
       " 'protein kinase C-activating G protein-coupled receptor signaling pathway',\n",
       " 'positive regulation of response to water deprivation',\n",
       " 'ribosomal subunit export from nucleus',\n",
       " 'retrograde vesicle-mediated transport, Golgi to endoplasmic reticulum',\n",
       " 'transmembrane receptor protein serine/threonine kinase activity',\n",
       " 'transmembrane receptor protein serine/threonine kinase activity',\n",
       " 'positive regulation of DNA demethylation',\n",
       " 'pollen development',\n",
       " 'multicellular organism development',\n",
       " 'transcription regulatory region DNA binding',\n",
       " 'transmembrane phosphate ion transport from cytosol to vacuole',\n",
       " 'calcium-mediated signaling',\n",
       " 'integral component of membrane',\n",
       " 'mitochondrion',\n",
       " 'root epidermal cell differentiation',\n",
       " 'motor activity',\n",
       " 'integral component of membrane',\n",
       " 'regulation of transcription, DNA-templated',\n",
       " 'oxidation-reduction process',\n",
       " 'protein histidine kinase binding',\n",
       " 'magnesium-dependent protein serine/threonine phosphatase activity',\n",
       " 'response to oxidative stress',\n",
       " 'negative regulation of transcription by RNA polymerase II',\n",
       " 'response to oxidative stress',\n",
       " 'signal transduction',\n",
       " 'integral component of membrane',\n",
       " 'cell redox homeostasis',\n",
       " 'mitochondrion',\n",
       " 'metal ion transmembrane transporter activity',\n",
       " 'RNA polymerase II regulatory region sequence-specific DNA binding',\n",
       " 'oxidoreductase activity, acting on paired donors, with incorporation or reduction of molecular oxygen, NAD(P)H as one donor, and incorporation of one atom of oxygen',\n",
       " 'serine-type endopeptidase activity',\n",
       " 'double-strand break repair via homologous recombination',\n",
       " 'endoplasmic reticulum to Golgi vesicle-mediated transport',\n",
       " 'protein serine/threonine phosphatase activity',\n",
       " 'RNA modification',\n",
       " 'multicellular organism development',\n",
       " 'SCF-dependent proteasomal ubiquitin-dependent protein catabolic process',\n",
       " 'mitochondrial electron transport, ubiquinol to cytochrome c',\n",
       " 'mitochondrion',\n",
       " 'ATPase activity, coupled to transmembrane movement of substances',\n",
       " 'anchored component of membrane',\n",
       " 'triplet codon-amino acid adaptor activity',\n",
       " 'triplet codon-amino acid adaptor activity',\n",
       " 'DNA-binding transcription factor activity, RNA polymerase II-specific',\n",
       " 'jasmonic acid biosynthetic process',\n",
       " 'nucleocytoplasmic transport',\n",
       " 'mitochondrion',\n",
       " 'oxidoreductase activity, acting on single donors with incorporation of molecular oxygen, incorporation of two atoms of oxygen',\n",
       " 'integral component of membrane',\n",
       " 'chlorophyll catabolic process',\n",
       " 'oxidoreductase activity, acting on paired donors, with incorporation or reduction of molecular oxygen',\n",
       " 'triplet codon-amino acid adaptor activity',\n",
       " 'chloroplast',\n",
       " 'negative regulation of programmed cell death']"
      ]
     },
     "execution_count": 7,
     "metadata": {},
     "output_type": "execute_result"
    }
   ],
   "source": [
    "functional_gff = r\"D:\\josiah\\Documents\\Research\\Arabidopsis\\GO_annotation.gff\"\n",
    "list(go_function.values())[:100]"
   ]
  },
  {
   "cell_type": "markdown",
   "metadata": {
    "collapsed": false
   },
   "source": [
    "\n",
    "    with open(filename, 'r') as genes:\n",
    "        with open(functional_gff, 'w') as final_annotation:\n",
    "            for line in genes.readlines():\n",
    "                parts = line.split('\\t')\n",
    "                locus = parts[8].split(';')[0][3:]\n",
    "                if locus in go_function:\n",
    "                    function = go_function[locus]\n",
    "                    final_annotation.write('\\t'.join(parts[:8] + ['Name=%s;ID=%s'% (function, locus) ]) +'\\n')"
   ]
  },
  {
   "cell_type": "markdown",
   "metadata": {},
   "source": [
    "22,103 genes"
   ]
  },
  {
   "cell_type": "code",
   "execution_count": 10,
   "metadata": {
    "collapsed": true
   },
   "outputs": [],
   "source": [
    "from DNASkittleUtils.Contigs import Contig, read_contigs, write_contigs_to_file"
   ]
  },
  {
   "cell_type": "code",
   "execution_count": 16,
   "metadata": {
    "collapsed": false
   },
   "outputs": [
    {
     "name": "stdout",
     "output_type": "stream",
     "text": [
      "Done writing  1 contigs and 30,427,671bp\n",
      "Done writing  1 contigs and 19,698,289bp\n",
      "Done writing  1 contigs and 23,459,830bp\n",
      "Done writing  1 contigs and 18,585,056bp\n",
      "Done writing  1 contigs and 26,975,502bp\n",
      "Done writing  1 contigs and 366,924bp\n",
      "Done writing  1 contigs and 154,478bp\n"
     ]
    }
   ],
   "source": [
    "chromosomes = read_contigs(r\"D:\\josiah\\Documents\\Research\\Arabidopsis\\TAIR10_chr_all.fas\")\n",
    "for chrm in chromosomes:\n",
    "    chrm.name = chrm.name.split()[0]\n",
    "    write_contigs_to_file(join(r\"D:\\josiah\\Documents\\Research\\Arabidopsis\\Chromosomes\", chrm.name + '.fa'), [chrm])"
   ]
  },
  {
   "cell_type": "code",
   "execution_count": 11,
   "metadata": {
    "collapsed": false
   },
   "outputs": [
    {
     "data": {
      "text/plain": [
       "3845"
      ]
     },
     "execution_count": 11,
     "metadata": {},
     "output_type": "execute_result"
    }
   ],
   "source": [
    "from functools import reduce\n",
    "reduce(int.__mul__,[3,3,3,3,3,15]) + 200"
   ]
  },
  {
   "cell_type": "code",
   "execution_count": 12,
   "metadata": {
    "collapsed": false
   },
   "outputs": [
    {
     "data": {
      "text/plain": [
       "405"
      ]
     },
     "execution_count": 12,
     "metadata": {},
     "output_type": "execute_result"
    }
   ],
   "source": [
    "reduce(int.__mul__, [5,3,3,3,3,]) # coil_height"
   ]
  },
  {
   "cell_type": "markdown",
   "metadata": {},
   "source": [
    "# Dice up chromosomes according to annotation\n",
    "* Annotations will sometimes overlap. Sort by start position, grab nucleotides \n",
    "* and then look for next annotation whose end position is greater than nucleotides already taken\n",
    "* Start next annotation then and repeat\n",
    "* Some annotations will be lost completely, but not many if overlap is low, more likely case is truncation\n",
    "* When no active annotations, mark with the same name: Chromosome X between genes ###\n",
    "------------\n"
   ]
  },
  {
   "cell_type": "code",
   "execution_count": 13,
   "metadata": {
    "collapsed": false
   },
   "outputs": [],
   "source": [
    "annotation = parseGFF(functional_gff)"
   ]
  },
  {
   "cell_type": "code",
   "execution_count": 14,
   "metadata": {
    "collapsed": false
   },
   "outputs": [],
   "source": [
    "# force sorting\n",
    "for chr_entries in annotation.values():\n",
    "    chr_entries.sort(key=lambda e: e.start)"
   ]
  },
  {
   "cell_type": "code",
   "execution_count": 15,
   "metadata": {
    "collapsed": false
   },
   "outputs": [
    {
     "data": {
      "text/plain": [
       "True"
      ]
     },
     "execution_count": 15,
     "metadata": {},
     "output_type": "execute_result"
    }
   ],
   "source": [
    "all([entry.start >= annotation['2'][i-1].start for i, entry in enumerate(annotation['2'][:]) if i])"
   ]
  },
  {
   "cell_type": "code",
   "execution_count": 41,
   "metadata": {
    "collapsed": false
   },
   "outputs": [
    {
     "name": "stdout",
     "output_type": "stream",
     "text": [
      "Done writing  12386 contigs and 30,453,674bp\n",
      "30,453,674 Difference -26,003\n",
      "Done writing  7337 contigs and 19,731,769bp\n",
      "19,731,769 Difference -33,480\n",
      "Done writing  9174 contigs and 23,479,378bp\n",
      "23,479,378 Difference -19,548\n",
      "Done writing  7061 contigs and 18,611,740bp\n",
      "18,611,740 Difference -26,684\n",
      "Done writing  10787 contigs and 27,009,486bp\n",
      "27,009,486 Difference -33,984\n"
     ]
    }
   ],
   "source": [
    "def write_functional_gene_contigs_from_chromosome(chr_seq_file):\n",
    "    #assume the order of annotations by start, create sequential contigs\n",
    "    nucleotides_claimed = set()\n",
    "    annotated_sequences = []  # in order from start position, end position never overlaps next start\n",
    "    chr_seq = read_contigs(chr_seq_file)[0].seq\n",
    "    scaff_name = just_the_name(chr_seq_file)\n",
    "    current_start = 0\n",
    "    if scaff_name in annotation.keys():\n",
    "        for entry in annotation[scaff_name]:\n",
    "            new_start = entry.start - 1\n",
    "            end = entry.end - 1\n",
    "            if new_start + 1 > current_start:\n",
    "                annotated_sequences.append(Contig('intergenic', chr_seq[current_start: new_start]))\n",
    "                #print('SPacer', new_start-current_start)\n",
    "            #else:\n",
    "                #pass\n",
    "            annotated_sequences.append(Contig(entry.name(), chr_seq[max(current_start, new_start) : end]))\n",
    "            #print(\"Gene %i - %i\" %(new_start, entry.end))\n",
    "            current_start = end\n",
    "\n",
    "    new_file = r\"D:\\josiah\\Documents\\Research\\Arabidopsis\\Chromosomes\\chr\"+ scaff_name + '_functions.fa'\n",
    "    write_contigs_to_file(new_file, annotated_sequences)\n",
    "    return [len(s.seq) for s in annotated_sequences], len(chr_seq) \n",
    "\n",
    "for chr_number in range(1,6):\n",
    "    chr_seq_file = r\"D:\\josiah\\Documents\\Research\\Arabidopsis\\Chromosomes\\%i.fa\" % chr_number\n",
    "    lengths, chr_length = write_functional_gene_contigs_from_chromosome(chr_seq_file)\n",
    "    print(pp(sum(lengths)), 'Difference', pp(chr_length - sum(lengths)))\n",
    "    "
   ]
  },
  {
   "cell_type": "code",
   "execution_count": null,
   "metadata": {
    "collapsed": true
   },
   "outputs": [],
   "source": [
    "19731769"
   ]
  },
  {
   "cell_type": "code",
   "execution_count": 31,
   "metadata": {
    "collapsed": false
   },
   "outputs": [
    {
     "data": {
      "text/plain": [
       "12386"
      ]
     },
     "execution_count": 31,
     "metadata": {},
     "output_type": "execute_result"
    }
   ],
   "source": [
    "len(lengths)"
   ]
  },
  {
   "cell_type": "markdown",
   "metadata": {},
   "source": [
    "### Layout\n",
    "* Ideogram has zero padding between contigs\n",
    "* Mouseover will iterate contigs til it finds the right one (could technically be overlapping)\n",
    "* "
   ]
  },
  {
   "cell_type": "code",
   "execution_count": null,
   "metadata": {
    "collapsed": true
   },
   "outputs": [],
   "source": []
  }
 ],
 "metadata": {
  "kernelspec": {
   "display_name": "Python 3",
   "language": "python",
   "name": "python3"
  },
  "language_info": {
   "codemirror_mode": {
    "name": "ipython",
    "version": 3
   },
   "file_extension": ".py",
   "mimetype": "text/x-python",
   "name": "python",
   "nbconvert_exporter": "python",
   "pygments_lexer": "ipython3",
   "version": "3.4.3"
  }
 },
 "nbformat": 4,
 "nbformat_minor": 1
}
