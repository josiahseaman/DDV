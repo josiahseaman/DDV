{
 "cells": [
  {
   "cell_type": "markdown",
   "metadata": {},
   "source": [
    "## Crawl Directory Structure and group by Folder"
   ]
  },
  {
   "cell_type": "code",
   "execution_count": 19,
   "metadata": {},
   "outputs": [
    {
     "name": "stdout",
     "output_type": "stream",
     "text": [
      "D:\\josiah\\Projects\\FluentDNA\n"
     ]
    },
    {
     "data": {
      "text/plain": [
       "['.\\\\www-data\\\\dnadata\\\\results\\\\gorGor4_to_Hg38',\n",
       " '.\\\\www-data\\\\dnadata\\\\results\\\\Gorilla Genome susie3',\n",
       " '.\\\\www-data\\\\dnadata\\\\results\\\\hg38_to_DanRer10 (zebra fish)',\n",
       " '.\\\\www-data\\\\dnadata\\\\results\\\\hg38_to_gorGor4',\n",
       " '.\\\\www-data\\\\dnadata\\\\results\\\\hg38_to_gorGor5',\n",
       " '.\\\\www-data\\\\dnadata\\\\results\\\\hg38_to_panTro4',\n",
       " '.\\\\www-data\\\\dnadata\\\\results\\\\hg38_to_panTro5',\n",
       " '.\\\\www-data\\\\dnadata\\\\results\\\\panTro4_to_Hg38',\n",
       " '.\\\\www-data\\\\dnadata\\\\results\\\\PanTro4_unique_vs_Hg38',\n",
       " '.\\\\www-data\\\\dnadata\\\\results\\\\panTro5_to_Hg38',\n",
       " '.\\\\www-data\\\\dnadata\\\\results\\\\susie3_Hg38_chr22',\n",
       " '.\\\\www-data\\\\dnadata\\\\results\\\\susie3_to_gorGor4']"
      ]
     },
     "execution_count": 19,
     "metadata": {},
     "output_type": "execute_result"
    }
   ],
   "source": [
    "from glob import glob\n",
    "import os\n",
    "print(os.getcwd())\n",
    "# Also: os.walk(r'.\\www-data\\dnadata\\results\\').next()[1]  # will work as well\n",
    "root = '.\\\\www-data\\\\dnadata\\\\results\\\\'\n",
    "projects = [dir for dir in glob(root + '*') if os.path.isdir( dir)]\n",
    "projects"
   ]
  },
  {
   "cell_type": "code",
   "execution_count": 82,
   "metadata": {},
   "outputs": [
    {
     "name": "stdout",
     "output_type": "stream",
     "text": [
      "Including 8 out of the 12 projects\n",
      ".\\www-data\\dnadata\\results\\gorGor4_to_Hg38\\*\n",
      ".\\www-data\\dnadata\\results\\hg38_to_gorGor4\\*\n",
      ".\\www-data\\dnadata\\results\\hg38_to_gorGor5\\*\n",
      ".\\www-data\\dnadata\\results\\hg38_to_panTro4\\*\n",
      ".\\www-data\\dnadata\\results\\hg38_to_panTro5\\*\n",
      ".\\www-data\\dnadata\\results\\panTro4_to_Hg38\\*\n",
      ".\\www-data\\dnadata\\results\\panTro5_to_Hg38\\*\n",
      ".\\www-data\\dnadata\\results\\susie3_to_gorGor4\\*\n"
     ]
    }
   ],
   "source": [
    "wanted_projects = 'hg38_to_gorGor4 gorGor4_to_Hg38 hg38_to_gorGor5 hg38_to_panTro4 panTro4_to_Hg38 hg38_to_panTro5 panTro5_to_Hg38 susie3_to_gorGor4'.split()\n",
    "print(\"Including %i out of the %i projects\" % (len(wanted_projects), len(projects)))\n",
    "project_data = {}  # comparison: dictionary of chromosomes\n",
    "for comparison in [p for p in projects if os.path.basename(p) in wanted_projects]:\n",
    "    comparison_name = os.path.basename(comparison)\n",
    "    project_data[comparison_name] = {}  # dict containing chromosome information\n",
    "    chromosomes = glob(os.path.join(comparison, \"*\"))\n",
    "    for chro in chromosomes:\n",
    "        path = os.path.join(chro, 'stats.txt')\n",
    "        contents = open(path, 'r').read().splitlines()[2:-2]\n",
    "        contents = {line.split('\\t')[0]: line.split('\\t')[1] for line in contents}\n",
    "        contents['Project'] = comparison_name\n",
    "        contents['Chromosome'] = os.path.basename(chro)\n",
    "        project_data[comparison_name][os.path.basename(chro)] = contents\n",
    "#         if len(contents) != 18:\n",
    "#             print(len(contents))\n",
    "#         print(contents)\n",
    "    print(os.path.join(comparison, \"*\"))\n",
    "# [p for p in projects if os.path.basename(p) in wanted_projects]"
   ]
  },
  {
   "cell_type": "code",
   "execution_count": 92,
   "metadata": {},
   "outputs": [
    {
     "data": {
      "text/plain": [
       "dict_keys(['susie3_to_gorGor4', 'hg38_to_panTro4', 'hg38_to_gorGor5', 'hg38_to_panTro5', 'panTro5_to_Hg38', 'panTro4_to_Hg38', 'gorGor4_to_Hg38', 'hg38_to_gorGor4'])"
      ]
     },
     "execution_count": 92,
     "metadata": {},
     "output_type": "execute_result"
    }
   ],
   "source": [
    "project_data.keys()"
   ]
  },
  {
   "cell_type": "code",
   "execution_count": 91,
   "metadata": {},
   "outputs": [
    {
     "data": {
      "text/plain": [
       "dict_keys(['hg38_to_gorGor4_chr8', 'hg38_to_gorGor4_chrX', 'hg38_to_gorGor4_chr1', 'hg38_to_gorGor4_chr7', 'hg38_to_gorGor4_chr11', 'hg38_to_gorGor4_chr15', 'hg38_to_gorGor4_chr13', 'hg38_to_gorGor4_chr4', 'hg38_to_gorGor4_chr2', 'hg38_to_gorGor4_chr21', 'hg38_to_gorGor4_chr9', 'hg38_to_gorGor4_chr17', 'hg38_to_gorGor4_chr12', 'hg38_to_gorGor4_chr14', 'hg38_to_gorGor4_chr10', 'hg38_to_gorGor4_chr22', 'hg38_to_gorGor4_chr6', 'hg38_to_gorGor4_chr20', 'hg38_to_gorGor4_chr16', 'hg38_to_gorGor4_chr5', 'hg38_to_gorGor4_chr3', 'hg38_to_gorGor4_chr19', 'hg38_to_gorGor4_chr18'])"
      ]
     },
     "execution_count": 91,
     "metadata": {},
     "output_type": "execute_result"
    }
   ],
   "source": [
    "project_data['hg38_to_gorGor4'].keys()"
   ]
  },
  {
   "cell_type": "code",
   "execution_count": 84,
   "metadata": {},
   "outputs": [
    {
     "data": {
      "text/plain": [
       "{'Aligned Variance in bp': '2066929',\n",
       " 'Chromosome': 'hg38_to_gorGor4_chrX',\n",
       " 'Project': 'hg38_to_gorGor4',\n",
       " 'Query Gaps larger than 1000bp': '3155',\n",
       " 'Query Gaps larger than 100bp': '6230',\n",
       " 'Query Gaps larger than 10bp': '16870',\n",
       " 'Query N to ref in bp': '9177125',\n",
       " 'Query Number of Gaps (all)': '118862',\n",
       " 'Query unique bp': '11224829',\n",
       " 'Ref Gaps larger than 1000bp': '3579',\n",
       " 'Ref Gaps larger than 100bp': '6879',\n",
       " 'Ref Gaps larger than 10bp': '17227',\n",
       " 'Ref N to query bp': '1147866',\n",
       " 'Ref Number of Gaps (all)': '112523',\n",
       " 'Ref unique bp': '14710613',\n",
       " 'Shared seq bp': '138086701'}"
      ]
     },
     "execution_count": 84,
     "metadata": {},
     "output_type": "execute_result"
    }
   ],
   "source": [
    "project_data['hg38_to_gorGor4']['hg38_to_gorGor4_chrX']"
   ]
  },
  {
   "cell_type": "code",
   "execution_count": 85,
   "metadata": {},
   "outputs": [
    {
     "name": "stdout",
     "output_type": "stream",
     "text": [
      "Query Gaps larger than 100bp\n",
      "Chromosome\n",
      "Ref Gaps larger than 1000bp\n",
      "Query Gaps larger than 1000bp\n",
      "Query unique bp\n",
      "Ref Gaps larger than 10bp\n",
      "Query Number of Gaps (all)\n",
      "Ref N to query bp\n",
      "Query N to ref in bp\n",
      "Ref Gaps larger than 100bp\n",
      "Project\n",
      "Ref unique bp\n",
      "Ref Number of Gaps (all)\n",
      "Shared seq bp\n",
      "Aligned Variance in bp\n",
      "Query Gaps larger than 10bp\n"
     ]
    }
   ],
   "source": [
    "print('\\n'.join(project_data['hg38_to_gorGor4']['hg38_to_gorGor4_chrX'].keys()))"
   ]
  },
  {
   "cell_type": "code",
   "execution_count": 86,
   "metadata": {
    "collapsed": true
   },
   "outputs": [],
   "source": [
    "chromosome_ordering = '1 2 2a 2b 3 4 5 6 7 8 9 10 11 12 13 14 15 16 17 18 19 20 21 22 X Y M Mt Un'.split()"
   ]
  },
  {
   "cell_type": "code",
   "execution_count": 72,
   "metadata": {
    "collapsed": true
   },
   "outputs": [],
   "source": [
    "# Add \"_chr\" between the comparison name the chromosome"
   ]
  },
  {
   "cell_type": "markdown",
   "metadata": {},
   "source": [
    "## Get all the numbers into columns"
   ]
  },
  {
   "cell_type": "code",
   "execution_count": null,
   "metadata": {
    "collapsed": true
   },
   "outputs": [],
   "source": []
  },
  {
   "cell_type": "markdown",
   "metadata": {},
   "source": [
    "## Write CSV into a single file"
   ]
  },
  {
   "cell_type": "code",
   "execution_count": 88,
   "metadata": {
    "collapsed": true
   },
   "outputs": [],
   "source": [
    "fieldnames = ['Project',\n",
    "              'Chromosome',\n",
    "              'Shared seq bp',   \n",
    "              'Ref unique bp', \n",
    "              'Query unique bp', \n",
    "              'Aligned Variance in bp', \n",
    "              'Ref N to query bp', \n",
    "              'Query N to ref in bp', \n",
    "              'Ref Number of Gaps (all)', \n",
    "              'Ref Gaps larger than 10bp', \n",
    "              'Ref Gaps larger than 100bp',\n",
    "              'Ref Gaps larger than 1000bp',\n",
    "              'Query Number of Gaps (all)', \n",
    "              'Query Gaps larger than 10bp',\n",
    "              'Query Gaps larger than 100bp',\n",
    "              'Query Gaps larger than 1000bp']  # The order of columns I want"
   ]
  },
  {
   "cell_type": "code",
   "execution_count": 95,
   "metadata": {
    "collapsed": true
   },
   "outputs": [],
   "source": [
    "import csv\n",
    "with open('comparison_stats.csv', 'w', newline='') as f:\n",
    "    writer = csv.DictWriter(f, fieldnames, restval='', extrasaction='raise', dialect='excel')\n",
    "#     writer = csv.writer(f)\n",
    "    writer.writeheader()\n",
    "    for project in wanted_projects:\n",
    "        writer.writerow({'Project': project})\n",
    "        for suffix in chromosome_ordering:\n",
    "            chr_name = project + '_chr' + suffix\n",
    "            if chr_name in project_data[project]:\n",
    "                writer.writerow(project_data[project][chr_name])\n",
    "        writer.writerow({})\n"
   ]
  },
  {
   "cell_type": "code",
   "execution_count": 94,
   "metadata": {},
   "outputs": [
    {
     "data": {
      "text/plain": [
       "8"
      ]
     },
     "execution_count": 94,
     "metadata": {},
     "output_type": "execute_result"
    }
   ],
   "source": [
    "len(wanted_projects)"
   ]
  },
  {
   "cell_type": "code",
   "execution_count": null,
   "metadata": {
    "collapsed": true
   },
   "outputs": [],
   "source": []
  },
  {
   "cell_type": "code",
   "execution_count": null,
   "metadata": {
    "collapsed": true
   },
   "outputs": [],
   "source": []
  },
  {
   "cell_type": "markdown",
   "metadata": {},
   "source": [
    "### Scrap"
   ]
  },
  {
   "cell_type": "code",
   "execution_count": null,
   "metadata": {
    "collapsed": true
   },
   "outputs": [],
   "source": []
  },
  {
   "cell_type": "code",
   "execution_count": 3,
   "metadata": {},
   "outputs": [
    {
     "data": {
      "text/plain": [
       "1"
      ]
     },
     "execution_count": 3,
     "metadata": {},
     "output_type": "execute_result"
    }
   ],
   "source": [
    "[1,2,3].__iter__().__next__()"
   ]
  },
  {
   "cell_type": "code",
   "execution_count": 58,
   "metadata": {},
   "outputs": [],
   "source": [
    "a = ['Ref Number of Gaps (all)\\t125336', 'Query Number of Gaps (all)\\t213479', 'Ref Gaps larger than 10bp\\t12927', 'Query Gaps larger than 10bp\\t13570', 'Ref Gaps larger than 100bp\\t2556', 'Ref Gaps larger than 1000bp\\t801', 'Query Gaps larger than 100bp\\t2544', 'Query Gaps larger than 1000bp\\t682', 'Ref N to query bp\\t524460', 'Ref unique bp\\t21846778', 'Shared seq bp\\t109555202', 'Aligned Variance in bp\\t1860982', 'Query unique bp\\t405832']"
   ]
  },
  {
   "cell_type": "code",
   "execution_count": 59,
   "metadata": {},
   "outputs": [],
   "source": [
    "b=['Query Number of Gaps (all)\\t117461', 'Ref Number of Gaps (all)\\t115353', 'Query Gaps larger than 10bp\\t16681', 'Query Gaps larger than 100bp\\t5563', 'Query Gaps larger than 1000bp\\t2384', 'Ref Gaps larger than 10bp\\t16866', 'Ref Gaps larger than 100bp\\t6058', 'Ref Gaps larger than 1000bp\\t3012', 'Query unique bp\\t63942343', 'Ref N to query bp\\t534460', 'Ref unique bp\\t7853452', 'Shared seq bp\\t123216710', 'Aligned Variance in bp\\t2164274', 'Query N to ref in bp\\t7641898']"
   ]
  },
  {
   "cell_type": "code",
   "execution_count": 60,
   "metadata": {},
   "outputs": [
    {
     "data": {
      "text/plain": [
       "['Query N to ref in bp']"
      ]
     },
     "execution_count": 60,
     "metadata": {},
     "output_type": "execute_result"
    }
   ],
   "source": [
    "a = [line.split('\\t')[0] for line in a]\n",
    "b = [line.split('\\t')[0] for line in b]\n",
    "[x for x in b if x not in a]"
   ]
  }
 ],
 "metadata": {
  "kernelspec": {
   "display_name": "Python 3",
   "language": "python",
   "name": "python3"
  },
  "language_info": {
   "codemirror_mode": {
    "name": "ipython",
    "version": 3
   },
   "file_extension": ".py",
   "mimetype": "text/x-python",
   "name": "python",
   "nbconvert_exporter": "python",
   "pygments_lexer": "ipython3",
   "version": "3.7.3"
  }
 },
 "nbformat": 4,
 "nbformat_minor": 1
}
